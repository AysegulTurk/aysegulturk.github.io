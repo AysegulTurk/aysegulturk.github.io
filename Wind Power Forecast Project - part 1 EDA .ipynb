{
 "cells": [
  {
   "cell_type": "markdown",
   "id": "6feea166",
   "metadata": {},
   "source": [
    "# Importing Packages and Libraries "
   ]
  },
  {
   "cell_type": "code",
   "execution_count": 1,
   "id": "e551192d",
   "metadata": {},
   "outputs": [
    {
     "name": "stdout",
     "output_type": "stream",
     "text": [
      "All packages are imported successfully!\n"
     ]
    }
   ],
   "source": [
    "import pandas as pd\n",
    "import numpy as np\n",
    "import seaborn as sns\n",
    "import ipywidgets as widgets\n",
    "import matplotlib.pyplot as plt\n",
    "from IPython.display import display\n",
    "from datetime import datetime, timedelta\n",
    "from ipywidgets import interact\n",
    "from typing import List\n",
    "import random\n",
    "\n",
    "print('All packages are imported successfully!')"
   ]
  },
  {
   "cell_type": "code",
   "execution_count": 2,
   "id": "d3da6ce3",
   "metadata": {},
   "outputs": [
    {
     "data": {
      "text/html": [
       "<div>\n",
       "<style scoped>\n",
       "    .dataframe tbody tr th:only-of-type {\n",
       "        vertical-align: middle;\n",
       "    }\n",
       "\n",
       "    .dataframe tbody tr th {\n",
       "        vertical-align: top;\n",
       "    }\n",
       "\n",
       "    .dataframe thead th {\n",
       "        text-align: right;\n",
       "    }\n",
       "</style>\n",
       "<table border=\"1\" class=\"dataframe\">\n",
       "  <thead>\n",
       "    <tr style=\"text-align: right;\">\n",
       "      <th></th>\n",
       "      <th>TurbID</th>\n",
       "      <th>Day</th>\n",
       "      <th>Tmstamp</th>\n",
       "      <th>Wspd</th>\n",
       "      <th>Wdir</th>\n",
       "      <th>Etmp</th>\n",
       "      <th>Itmp</th>\n",
       "      <th>Ndir</th>\n",
       "      <th>Pab1</th>\n",
       "      <th>Pab2</th>\n",
       "      <th>Pab3</th>\n",
       "      <th>Prtv</th>\n",
       "      <th>Patv</th>\n",
       "    </tr>\n",
       "  </thead>\n",
       "  <tbody>\n",
       "    <tr>\n",
       "      <th>0</th>\n",
       "      <td>1</td>\n",
       "      <td>1</td>\n",
       "      <td>00:00</td>\n",
       "      <td>NaN</td>\n",
       "      <td>NaN</td>\n",
       "      <td>NaN</td>\n",
       "      <td>NaN</td>\n",
       "      <td>NaN</td>\n",
       "      <td>NaN</td>\n",
       "      <td>NaN</td>\n",
       "      <td>NaN</td>\n",
       "      <td>NaN</td>\n",
       "      <td>NaN</td>\n",
       "    </tr>\n",
       "    <tr>\n",
       "      <th>1</th>\n",
       "      <td>1</td>\n",
       "      <td>1</td>\n",
       "      <td>00:10</td>\n",
       "      <td>6.17</td>\n",
       "      <td>-3.99</td>\n",
       "      <td>30.73</td>\n",
       "      <td>41.80</td>\n",
       "      <td>25.92</td>\n",
       "      <td>1.0</td>\n",
       "      <td>1.0</td>\n",
       "      <td>1.0</td>\n",
       "      <td>-0.25</td>\n",
       "      <td>494.66</td>\n",
       "    </tr>\n",
       "    <tr>\n",
       "      <th>2</th>\n",
       "      <td>1</td>\n",
       "      <td>1</td>\n",
       "      <td>00:20</td>\n",
       "      <td>6.27</td>\n",
       "      <td>-2.18</td>\n",
       "      <td>30.60</td>\n",
       "      <td>41.63</td>\n",
       "      <td>20.91</td>\n",
       "      <td>1.0</td>\n",
       "      <td>1.0</td>\n",
       "      <td>1.0</td>\n",
       "      <td>-0.24</td>\n",
       "      <td>509.76</td>\n",
       "    </tr>\n",
       "    <tr>\n",
       "      <th>3</th>\n",
       "      <td>1</td>\n",
       "      <td>1</td>\n",
       "      <td>00:30</td>\n",
       "      <td>6.42</td>\n",
       "      <td>-0.73</td>\n",
       "      <td>30.52</td>\n",
       "      <td>41.52</td>\n",
       "      <td>20.91</td>\n",
       "      <td>1.0</td>\n",
       "      <td>1.0</td>\n",
       "      <td>1.0</td>\n",
       "      <td>-0.26</td>\n",
       "      <td>542.53</td>\n",
       "    </tr>\n",
       "    <tr>\n",
       "      <th>4</th>\n",
       "      <td>1</td>\n",
       "      <td>1</td>\n",
       "      <td>00:40</td>\n",
       "      <td>6.25</td>\n",
       "      <td>0.89</td>\n",
       "      <td>30.49</td>\n",
       "      <td>41.38</td>\n",
       "      <td>20.91</td>\n",
       "      <td>1.0</td>\n",
       "      <td>1.0</td>\n",
       "      <td>1.0</td>\n",
       "      <td>-0.23</td>\n",
       "      <td>509.36</td>\n",
       "    </tr>\n",
       "  </tbody>\n",
       "</table>\n",
       "</div>"
      ],
      "text/plain": [
       "   TurbID  Day Tmstamp  Wspd  Wdir   Etmp   Itmp   Ndir  Pab1  Pab2  Pab3  \\\n",
       "0       1    1   00:00   NaN   NaN    NaN    NaN    NaN   NaN   NaN   NaN   \n",
       "1       1    1   00:10  6.17 -3.99  30.73  41.80  25.92   1.0   1.0   1.0   \n",
       "2       1    1   00:20  6.27 -2.18  30.60  41.63  20.91   1.0   1.0   1.0   \n",
       "3       1    1   00:30  6.42 -0.73  30.52  41.52  20.91   1.0   1.0   1.0   \n",
       "4       1    1   00:40  6.25  0.89  30.49  41.38  20.91   1.0   1.0   1.0   \n",
       "\n",
       "   Prtv    Patv  \n",
       "0   NaN     NaN  \n",
       "1 -0.25  494.66  \n",
       "2 -0.24  509.76  \n",
       "3 -0.26  542.53  \n",
       "4 -0.23  509.36  "
      ]
     },
     "execution_count": 2,
     "metadata": {},
     "output_type": "execute_result"
    }
   ],
   "source": [
    "#Loading dataset\n",
    "raw_data=pd.read_csv(r'C:\\Users\\aturk\\Downloads\\wtbdata_245days.csv')\n",
    "raw_data.head()"
   ]
  },
  {
   "cell_type": "code",
   "execution_count": 3,
   "id": "0a838e10",
   "metadata": {},
   "outputs": [
    {
     "name": "stdout",
     "output_type": "stream",
     "text": [
      "<class 'pandas.core.frame.DataFrame'>\n",
      "RangeIndex: 4727520 entries, 0 to 4727519\n",
      "Data columns (total 13 columns):\n",
      " #   Column   Dtype  \n",
      "---  ------   -----  \n",
      " 0   TurbID   int64  \n",
      " 1   Day      int64  \n",
      " 2   Tmstamp  object \n",
      " 3   Wspd     float64\n",
      " 4   Wdir     float64\n",
      " 5   Etmp     float64\n",
      " 6   Itmp     float64\n",
      " 7   Ndir     float64\n",
      " 8   Pab1     float64\n",
      " 9   Pab2     float64\n",
      " 10  Pab3     float64\n",
      " 11  Prtv     float64\n",
      " 12  Patv     float64\n",
      "dtypes: float64(10), int64(2), object(1)\n",
      "memory usage: 468.9+ MB\n"
     ]
    }
   ],
   "source": [
    "raw_data.info()"
   ]
  },
  {
   "cell_type": "markdown",
   "id": "f454dd85",
   "metadata": {},
   "source": [
    "# Inspecting and Treating Missing Values"
   ]
  },
  {
   "cell_type": "code",
   "execution_count": 4,
   "id": "e0a95eff",
   "metadata": {},
   "outputs": [
    {
     "name": "stdout",
     "output_type": "stream",
     "text": [
      "Number of missing values per column:\n",
      "\n",
      "TurbID         0\n",
      "Day            0\n",
      "Tmstamp        0\n",
      "Wspd       49518\n",
      "Wdir       49518\n",
      "Etmp       49518\n",
      "Itmp       49518\n",
      "Ndir       49518\n",
      "Pab1       49518\n",
      "Pab2       49518\n",
      "Pab3       49518\n",
      "Prtv       49518\n",
      "Patv       49518\n",
      "dtype: int64\n"
     ]
    }
   ],
   "source": [
    "#inspecting and imputing missing values\n",
    "print(\"Number of missing values per column:\\n\")\n",
    "print(raw_data.isnull().sum())"
   ]
  },
  {
   "cell_type": "code",
   "execution_count": 5,
   "id": "c703a3da",
   "metadata": {},
   "outputs": [],
   "source": [
    "#Creating dataframe for missing values\n",
    "mv=raw_data[raw_data.isnull().any(axis=1)]\n",
    "num_na_values, total_values=len(mv), len(raw_data)"
   ]
  },
  {
   "cell_type": "code",
   "execution_count": 6,
   "id": "d786fd71",
   "metadata": {},
   "outputs": [
    {
     "data": {
      "text/plain": [
       "(4727520, 13)"
      ]
     },
     "execution_count": 6,
     "metadata": {},
     "output_type": "execute_result"
    }
   ],
   "source": [
    "raw_data.shape"
   ]
  },
  {
   "cell_type": "code",
   "execution_count": 7,
   "id": "6668dbe5",
   "metadata": {},
   "outputs": [
    {
     "data": {
      "text/plain": [
       "(49518, 13)"
      ]
     },
     "execution_count": 7,
     "metadata": {},
     "output_type": "execute_result"
    }
   ],
   "source": [
    "mv.shape"
   ]
  },
  {
   "cell_type": "code",
   "execution_count": 8,
   "id": "5c36c69a",
   "metadata": {},
   "outputs": [
    {
     "data": {
      "text/html": [
       "<div>\n",
       "<style scoped>\n",
       "    .dataframe tbody tr th:only-of-type {\n",
       "        vertical-align: middle;\n",
       "    }\n",
       "\n",
       "    .dataframe tbody tr th {\n",
       "        vertical-align: top;\n",
       "    }\n",
       "\n",
       "    .dataframe thead th {\n",
       "        text-align: right;\n",
       "    }\n",
       "</style>\n",
       "<table border=\"1\" class=\"dataframe\">\n",
       "  <thead>\n",
       "    <tr style=\"text-align: right;\">\n",
       "      <th></th>\n",
       "      <th>TurbID</th>\n",
       "      <th>Day</th>\n",
       "      <th>Tmstamp</th>\n",
       "      <th>Wspd</th>\n",
       "      <th>Wdir</th>\n",
       "      <th>Etmp</th>\n",
       "      <th>Itmp</th>\n",
       "      <th>Ndir</th>\n",
       "      <th>Pab1</th>\n",
       "      <th>Pab2</th>\n",
       "      <th>Pab3</th>\n",
       "      <th>Prtv</th>\n",
       "      <th>Patv</th>\n",
       "    </tr>\n",
       "  </thead>\n",
       "  <tbody>\n",
       "    <tr>\n",
       "      <th>0</th>\n",
       "      <td>1</td>\n",
       "      <td>1</td>\n",
       "      <td>00:00</td>\n",
       "      <td>NaN</td>\n",
       "      <td>NaN</td>\n",
       "      <td>NaN</td>\n",
       "      <td>NaN</td>\n",
       "      <td>NaN</td>\n",
       "      <td>NaN</td>\n",
       "      <td>NaN</td>\n",
       "      <td>NaN</td>\n",
       "      <td>NaN</td>\n",
       "      <td>NaN</td>\n",
       "    </tr>\n",
       "    <tr>\n",
       "      <th>1440</th>\n",
       "      <td>1</td>\n",
       "      <td>11</td>\n",
       "      <td>00:00</td>\n",
       "      <td>NaN</td>\n",
       "      <td>NaN</td>\n",
       "      <td>NaN</td>\n",
       "      <td>NaN</td>\n",
       "      <td>NaN</td>\n",
       "      <td>NaN</td>\n",
       "      <td>NaN</td>\n",
       "      <td>NaN</td>\n",
       "      <td>NaN</td>\n",
       "      <td>NaN</td>\n",
       "    </tr>\n",
       "    <tr>\n",
       "      <th>2880</th>\n",
       "      <td>1</td>\n",
       "      <td>21</td>\n",
       "      <td>00:00</td>\n",
       "      <td>NaN</td>\n",
       "      <td>NaN</td>\n",
       "      <td>NaN</td>\n",
       "      <td>NaN</td>\n",
       "      <td>NaN</td>\n",
       "      <td>NaN</td>\n",
       "      <td>NaN</td>\n",
       "      <td>NaN</td>\n",
       "      <td>NaN</td>\n",
       "      <td>NaN</td>\n",
       "    </tr>\n",
       "    <tr>\n",
       "      <th>3694</th>\n",
       "      <td>1</td>\n",
       "      <td>26</td>\n",
       "      <td>15:40</td>\n",
       "      <td>NaN</td>\n",
       "      <td>NaN</td>\n",
       "      <td>NaN</td>\n",
       "      <td>NaN</td>\n",
       "      <td>NaN</td>\n",
       "      <td>NaN</td>\n",
       "      <td>NaN</td>\n",
       "      <td>NaN</td>\n",
       "      <td>NaN</td>\n",
       "      <td>NaN</td>\n",
       "    </tr>\n",
       "    <tr>\n",
       "      <th>4320</th>\n",
       "      <td>1</td>\n",
       "      <td>31</td>\n",
       "      <td>00:00</td>\n",
       "      <td>NaN</td>\n",
       "      <td>NaN</td>\n",
       "      <td>NaN</td>\n",
       "      <td>NaN</td>\n",
       "      <td>NaN</td>\n",
       "      <td>NaN</td>\n",
       "      <td>NaN</td>\n",
       "      <td>NaN</td>\n",
       "      <td>NaN</td>\n",
       "      <td>NaN</td>\n",
       "    </tr>\n",
       "  </tbody>\n",
       "</table>\n",
       "</div>"
      ],
      "text/plain": [
       "      TurbID  Day Tmstamp  Wspd  Wdir  Etmp  Itmp  Ndir  Pab1  Pab2  Pab3  \\\n",
       "0          1    1   00:00   NaN   NaN   NaN   NaN   NaN   NaN   NaN   NaN   \n",
       "1440       1   11   00:00   NaN   NaN   NaN   NaN   NaN   NaN   NaN   NaN   \n",
       "2880       1   21   00:00   NaN   NaN   NaN   NaN   NaN   NaN   NaN   NaN   \n",
       "3694       1   26   15:40   NaN   NaN   NaN   NaN   NaN   NaN   NaN   NaN   \n",
       "4320       1   31   00:00   NaN   NaN   NaN   NaN   NaN   NaN   NaN   NaN   \n",
       "\n",
       "      Prtv  Patv  \n",
       "0      NaN   NaN  \n",
       "1440   NaN   NaN  \n",
       "2880   NaN   NaN  \n",
       "3694   NaN   NaN  \n",
       "4320   NaN   NaN  "
      ]
     },
     "execution_count": 8,
     "metadata": {},
     "output_type": "execute_result"
    }
   ],
   "source": [
    "mv.head()"
   ]
  },
  {
   "cell_type": "code",
   "execution_count": 9,
   "id": "6a86ab26",
   "metadata": {},
   "outputs": [
    {
     "name": "stdout",
     "output_type": "stream",
     "text": [
      "\n",
      "The dataset contains 4727520 rows, of which 49518 include some missing values.\n",
      "\n",
      "This is 1.047% of the total data.\n"
     ]
    }
   ],
   "source": [
    "print(f\"\\nThe dataset contains {total_values} rows, of which {num_na_values} include some missing values.\\n\\nThis is {(num_na_values/total_values)*100:.3f}% of the total data.\")"
   ]
  },
  {
   "cell_type": "code",
   "execution_count": 10,
   "id": "2f275be3",
   "metadata": {},
   "outputs": [
    {
     "name": "stdout",
     "output_type": "stream",
     "text": [
      "Number of rows with both NaN and non-NaN values: 49518\n"
     ]
    }
   ],
   "source": [
    "# Create a boolean mask for rows with both NaN and non-NaN values\n",
    "mask_both_na_and_non_na = mv.isnull().any(axis=1) & mv.notnull().any(axis=1)\n",
    "\n",
    "# Use the mask to filter rows in 'mv'\n",
    "rows_both_na_and_non_na = mv[mask_both_na_and_non_na]\n",
    "\n",
    "# Get the number of rows with both NaN and non-NaN values\n",
    "num_rows_both_na_and_non_na = len(rows_both_na_and_non_na)\n",
    "\n",
    "print(f\"Number of rows with both NaN and non-NaN values: {num_rows_both_na_and_non_na}\")"
   ]
  },
  {
   "cell_type": "code",
   "execution_count": 11,
   "id": "0c46bebb",
   "metadata": {},
   "outputs": [
    {
     "name": "stdout",
     "output_type": "stream",
     "text": [
      "Number of rows that have 100% missing values:0\n"
     ]
    }
   ],
   "source": [
    "# Create a boolean mask for rows with all NaN values\n",
    "mask_all_na = mv.isnull().all(axis=1)\n",
    "\n",
    "# Use the mask to filter rows in 'mv'\n",
    "rows_all_na = mv[mask_all_na]\n",
    "\n",
    "# Get the number of rows with all NaN values\n",
    "num_rows_all_na = len(rows_all_na)\n",
    "print(f\"Number of rows that have 100% missing values:{num_rows_all_na}\")"
   ]
  },
  {
   "cell_type": "code",
   "execution_count": 12,
   "id": "1277415d",
   "metadata": {},
   "outputs": [],
   "source": [
    "#Display button to inspect missing values\n",
    "\n",
    "def inspect_missing_values(mv_df: pd.core.frame.DataFrame, num_samples: int, output:widgets.Output):\n",
    "    \n",
    "    def on_button_clicked(b):\n",
    "        with output:\n",
    "            output.clear_output()\n",
    "            random_index = random.sample([*range(len(mv_df))], num_samples)\n",
    "            display(mv_df.iloc[random_index].head(num_samples))\n",
    "            \n",
    "    return on_button_clicked"
   ]
  },
  {
   "cell_type": "code",
   "execution_count": 13,
   "id": "5ba39953",
   "metadata": {},
   "outputs": [
    {
     "data": {
      "application/vnd.jupyter.widget-view+json": {
       "model_id": "a6f017b06a204493827dba7c9cf9baf0",
       "version_major": 2,
       "version_minor": 0
      },
      "text/plain": [
       "Button(description='Inspect', style=ButtonStyle())"
      ]
     },
     "metadata": {},
     "output_type": "display_data"
    },
    {
     "data": {
      "application/vnd.jupyter.widget-view+json": {
       "model_id": "0064e062713e4f21b9af04721c7ce6fa",
       "version_major": 2,
       "version_minor": 0
      },
      "text/plain": [
       "Output()"
      ]
     },
     "metadata": {},
     "output_type": "display_data"
    }
   ],
   "source": [
    "button=widgets.Button(description=\"Inspect\")\n",
    "output=widgets.Output()\n",
    "display(button, output)\n",
    "        \n",
    "#Number of samples to inspect each time\n",
    "num_samples=5\n",
    "\n",
    "#inspect missing values by clicking button\n",
    "button.on_click(inspect_missing_values(mv, num_samples, output))        \n"
   ]
  },
  {
   "cell_type": "code",
   "execution_count": 14,
   "id": "077675f1",
   "metadata": {},
   "outputs": [
    {
     "name": "stdout",
     "output_type": "stream",
     "text": [
      "Number of missing values by column:\n",
      "\n",
      "TurbID     0\n",
      "Day        0\n",
      "Tmstamp    0\n",
      "Wspd       0\n",
      "Wdir       0\n",
      "Etmp       0\n",
      "Itmp       0\n",
      "Ndir       0\n",
      "Pab1       0\n",
      "Pab2       0\n",
      "Pab3       0\n",
      "Prtv       0\n",
      "Patv       0\n",
      "dtype: int64\n"
     ]
    }
   ],
   "source": [
    "#Missing values count only 1% of all datsets, drop missing values\n",
    "raw_data = raw_data.dropna()\n",
    "\n",
    "print(\"Number of missing values by column:\\n\")\n",
    "print(raw_data.isnull().sum())"
   ]
  },
  {
   "cell_type": "markdown",
   "id": "9ee55c37",
   "metadata": {},
   "source": [
    "# Descriptive Statistics"
   ]
  },
  {
   "cell_type": "code",
   "execution_count": 40,
   "id": "91619878",
   "metadata": {},
   "outputs": [
    {
     "name": "stdout",
     "output_type": "stream",
     "text": [
      "The numerical features are:\n",
      "\n",
      "['Wspd', 'Wdir', 'Etmp', 'Itmp', 'Ndir', 'Pab1', 'Pab2', 'Pab3', 'Prtv', 'Patv']\n"
     ]
    }
   ],
   "source": [
    "#Creating a df only for numeric columns\n",
    "all_features=list(raw_data.columns)\n",
    "numerical_features=[f for f in all_features if f not in [\"TurbID\", \"Day\", \"Tmstamp\"]]\n",
    "print(f\"The numerical features are:\\n\\n{numerical_features}\")"
   ]
  },
  {
   "cell_type": "code",
   "execution_count": 41,
   "id": "8084de57",
   "metadata": {},
   "outputs": [
    {
     "data": {
      "text/html": [
       "<div>\n",
       "<style scoped>\n",
       "    .dataframe tbody tr th:only-of-type {\n",
       "        vertical-align: middle;\n",
       "    }\n",
       "\n",
       "    .dataframe tbody tr th {\n",
       "        vertical-align: top;\n",
       "    }\n",
       "\n",
       "    .dataframe thead th {\n",
       "        text-align: right;\n",
       "    }\n",
       "</style>\n",
       "<table border=\"1\" class=\"dataframe\">\n",
       "  <thead>\n",
       "    <tr style=\"text-align: right;\">\n",
       "      <th></th>\n",
       "      <th>Wspd</th>\n",
       "      <th>Wdir</th>\n",
       "      <th>Etmp</th>\n",
       "      <th>Itmp</th>\n",
       "      <th>Ndir</th>\n",
       "      <th>Pab1</th>\n",
       "      <th>Pab2</th>\n",
       "      <th>Pab3</th>\n",
       "      <th>Prtv</th>\n",
       "      <th>Patv</th>\n",
       "    </tr>\n",
       "  </thead>\n",
       "  <tbody>\n",
       "    <tr>\n",
       "      <th>count</th>\n",
       "      <td>4678002.0</td>\n",
       "      <td>4678002.0</td>\n",
       "      <td>4678002.0</td>\n",
       "      <td>4678002.0</td>\n",
       "      <td>4678002.0</td>\n",
       "      <td>4678002.0</td>\n",
       "      <td>4678002.0</td>\n",
       "      <td>4678002.0</td>\n",
       "      <td>4678002.0</td>\n",
       "      <td>4678002.0</td>\n",
       "    </tr>\n",
       "    <tr>\n",
       "      <th>mean</th>\n",
       "      <td>5.0</td>\n",
       "      <td>0.5</td>\n",
       "      <td>41.1</td>\n",
       "      <td>27.4</td>\n",
       "      <td>188.6</td>\n",
       "      <td>26.9</td>\n",
       "      <td>26.8</td>\n",
       "      <td>26.8</td>\n",
       "      <td>-13.2</td>\n",
       "      <td>350.4</td>\n",
       "    </tr>\n",
       "    <tr>\n",
       "      <th>std</th>\n",
       "      <td>3.4</td>\n",
       "      <td>31.6</td>\n",
       "      <td>85.3</td>\n",
       "      <td>18.3</td>\n",
       "      <td>163.2</td>\n",
       "      <td>38.8</td>\n",
       "      <td>38.8</td>\n",
       "      <td>38.8</td>\n",
       "      <td>70.4</td>\n",
       "      <td>425.0</td>\n",
       "    </tr>\n",
       "    <tr>\n",
       "      <th>min</th>\n",
       "      <td>0.0</td>\n",
       "      <td>-3030.5</td>\n",
       "      <td>-273.0</td>\n",
       "      <td>-273.2</td>\n",
       "      <td>-884.9</td>\n",
       "      <td>-10.0</td>\n",
       "      <td>-10.0</td>\n",
       "      <td>-10.0</td>\n",
       "      <td>-625.0</td>\n",
       "      <td>-9.3</td>\n",
       "    </tr>\n",
       "    <tr>\n",
       "      <th>25%</th>\n",
       "      <td>2.2</td>\n",
       "      <td>-3.8</td>\n",
       "      <td>14.1</td>\n",
       "      <td>20.1</td>\n",
       "      <td>63.0</td>\n",
       "      <td>0.0</td>\n",
       "      <td>0.0</td>\n",
       "      <td>0.0</td>\n",
       "      <td>-38.6</td>\n",
       "      <td>-0.3</td>\n",
       "    </tr>\n",
       "    <tr>\n",
       "      <th>50%</th>\n",
       "      <td>4.3</td>\n",
       "      <td>-0.2</td>\n",
       "      <td>25.7</td>\n",
       "      <td>30.1</td>\n",
       "      <td>194.8</td>\n",
       "      <td>0.5</td>\n",
       "      <td>0.5</td>\n",
       "      <td>0.5</td>\n",
       "      <td>-0.3</td>\n",
       "      <td>179.1</td>\n",
       "    </tr>\n",
       "    <tr>\n",
       "      <th>75%</th>\n",
       "      <td>7.0</td>\n",
       "      <td>3.4</td>\n",
       "      <td>32.7</td>\n",
       "      <td>36.8</td>\n",
       "      <td>322.0</td>\n",
       "      <td>84.0</td>\n",
       "      <td>84.0</td>\n",
       "      <td>84.0</td>\n",
       "      <td>-0.0</td>\n",
       "      <td>547.7</td>\n",
       "    </tr>\n",
       "    <tr>\n",
       "      <th>max</th>\n",
       "      <td>26.3</td>\n",
       "      <td>2266.9</td>\n",
       "      <td>394.3</td>\n",
       "      <td>324.2</td>\n",
       "      <td>700.6</td>\n",
       "      <td>100.0</td>\n",
       "      <td>100.0</td>\n",
       "      <td>100.0</td>\n",
       "      <td>485.2</td>\n",
       "      <td>1567.0</td>\n",
       "    </tr>\n",
       "  </tbody>\n",
       "</table>\n",
       "</div>"
      ],
      "text/plain": [
       "            Wspd       Wdir       Etmp       Itmp       Ndir       Pab1  \\\n",
       "count  4678002.0  4678002.0  4678002.0  4678002.0  4678002.0  4678002.0   \n",
       "mean         5.0        0.5       41.1       27.4      188.6       26.9   \n",
       "std          3.4       31.6       85.3       18.3      163.2       38.8   \n",
       "min          0.0    -3030.5     -273.0     -273.2     -884.9      -10.0   \n",
       "25%          2.2       -3.8       14.1       20.1       63.0        0.0   \n",
       "50%          4.3       -0.2       25.7       30.1      194.8        0.5   \n",
       "75%          7.0        3.4       32.7       36.8      322.0       84.0   \n",
       "max         26.3     2266.9      394.3      324.2      700.6      100.0   \n",
       "\n",
       "            Pab2       Pab3       Prtv       Patv  \n",
       "count  4678002.0  4678002.0  4678002.0  4678002.0  \n",
       "mean        26.8       26.8      -13.2      350.4  \n",
       "std         38.8       38.8       70.4      425.0  \n",
       "min        -10.0      -10.0     -625.0       -9.3  \n",
       "25%          0.0        0.0      -38.6       -0.3  \n",
       "50%          0.5        0.5       -0.3      179.1  \n",
       "75%         84.0       84.0       -0.0      547.7  \n",
       "max        100.0      100.0      485.2     1567.0  "
      ]
     },
     "execution_count": 41,
     "metadata": {},
     "output_type": "execute_result"
    }
   ],
   "source": [
    "descriptive_stats=raw_data[numerical_features].describe()\n",
    "descriptive_stats.apply(lambda s: s.apply(\"{0:.1f}\".format))"
   ]
  },
  {
   "cell_type": "markdown",
   "id": "f346d99d",
   "metadata": {},
   "source": [
    "# Data Visualisations"
   ]
  },
  {
   "cell_type": "code",
   "execution_count": 42,
   "id": "bf568554",
   "metadata": {},
   "outputs": [],
   "source": [
    "#selecting top 10 performing turbines\n",
    "\n",
    "def top_n_turbines(\n",
    "    raw_data: pd.core.frame.DataFrame, n: int) -> pd.core.frame.DataFrame:\n",
    "    sorted_patv_by_turbine=(raw_data.groupby('TurbID')[\"Patv\"].mean().reset_index().sort_values(by=\"Patv\", ascending=False)\n",
    "    )\n",
    "    \n",
    "    top_turbines = list(sorted_patv_by_turbine.index)[:n]\n",
    "    \n",
    "    print(f\"Original data has {len(raw_data)} rows from {len(raw_data.TurbID.unique())} turbines. \\n\")\n",
    "    \n",
    "    raw_data = raw_data[raw_data['TurbID'].isin(top_turbines)]\n",
    "    \n",
    "    print(f\"Sliced data has {len(raw_data)} rows from {len(raw_data.TurbID.unique())} turbines.\")\n",
    "    \n",
    "    return raw_data"
   ]
  },
  {
   "cell_type": "code",
   "execution_count": 43,
   "id": "34278441",
   "metadata": {},
   "outputs": [
    {
     "name": "stdout",
     "output_type": "stream",
     "text": [
      "Original data has 4678002 rows from 134 turbines. \n",
      "\n",
      "Sliced data has 314403 rows from 9 turbines.\n"
     ]
    }
   ],
   "source": [
    "top_turbines=top_n_turbines(raw_data, 10)"
   ]
  },
  {
   "cell_type": "code",
   "execution_count": 44,
   "id": "a88ec677",
   "metadata": {},
   "outputs": [],
   "source": [
    "#Histogram Plot\n",
    "\n",
    "def histogram_plot(df: pd.core.frame.DataFrame, features: List[str], bins: int=16):\n",
    "    def _plot(turbine, features):\n",
    "        data=df[df.TurbID == turbine]\n",
    "        plt.figure(figsize=(8,5))\n",
    "        x = data[features].values\n",
    "        plt.xlabel(f'{features}', fontsize=20)\n",
    "        sns.histplot(x, bins=bins)\n",
    "        plt.ylabel(f\"Count\", fontsize=20)\n",
    "        plt.title(f\"Feature: {features} - Turbine: {turbine}\", fontsize=25)\n",
    "        plt.tick_params(axis='both', labelsize=15)\n",
    "        plt.show()\n",
    "        \n",
    "    turbine_selection = widgets.Dropdown(\n",
    "        options=df.TurbID.unique(), value=df.TurbID.unique()[-1], description = 'Turbine')\n",
    "    \n",
    "    feature_selection = widgets.Dropdown(\n",
    "        options=features, \n",
    "        description=\"Feature\",\n",
    "    )\n",
    "    \n",
    "    interact(_plot, turbine=turbine_selection, features=feature_selection)"
   ]
  },
  {
   "cell_type": "code",
   "execution_count": 45,
   "id": "f0804d8b",
   "metadata": {},
   "outputs": [
    {
     "data": {
      "application/vnd.jupyter.widget-view+json": {
       "model_id": "a3f52a7f21274b1e80699677f9063a3a",
       "version_major": 2,
       "version_minor": 0
      },
      "text/plain": [
       "interactive(children=(Dropdown(description='Turbine', index=8, options=(2, 3, 4, 5, 8, 9, 10, 11, 69), value=6…"
      ]
     },
     "metadata": {},
     "output_type": "display_data"
    }
   ],
   "source": [
    "bin_size=50\n",
    "histogram_plot(top_turbines, numerical_features, bin_size)"
   ]
  },
  {
   "cell_type": "markdown",
   "id": "38ce3e2d",
   "metadata": {},
   "source": [
    "## Interactive Histogram Graphs to Compare Different Turbines"
   ]
  },
  {
   "cell_type": "code",
   "execution_count": 48,
   "id": "fb5bf531",
   "metadata": {},
   "outputs": [],
   "source": [
    "def histogram_comparison_plot(\n",
    "    df: pd.core.frame.DataFrame, features: List[str], bins: int = 16\n",
    "):\n",
    "    def _plot(turbine1, turbine2, feature):\n",
    "        data_1 = df[df.TurbID == turbine1]\n",
    "        data_2 = df[df.TurbID == turbine2]\n",
    "        \n",
    "        fig, (ax1, ax2) = plt.subplots(1,2, figsize=(8,5))\n",
    "        \n",
    "        x_1 = data_1[feature].values\n",
    "        x_2 = data_2[feature].values\n",
    "        \n",
    "        ax1.set_xlabel(f\"{feature}\", fontsize=20)\n",
    "        ax2.set_xlabel(f\"{feature}\", fontsize=20)\n",
    "        \n",
    "        ax1.set_ylabel(f\"Count\", fontsize=20)\n",
    "        ax2.set_ylabel(f\"Count\", fontsize=20)\n",
    "        \n",
    "        sns.histplot(x_1, bins=bins, ax=ax1)\n",
    "        sns.histplot(x_2, bins=bins, ax=ax2, color='green')\n",
    "        \n",
    "        ax1.set_title(f\"Turbine: {turbine1}\", fontsize=25)\n",
    "        ax1.tick_params(axis=\"both\", labelsize=15)\n",
    "        \n",
    "        ax2.set_title(f\"Turbine: {turbine2}\", fontsize=25)\n",
    "        ax2.tick_params(axis=\"both\", labelsize=15)\n",
    "        \n",
    "        fig.tight_layout()\n",
    "        fig.show()\n",
    "        \n",
    "    turbine_selection1 = widgets.Dropdown(\n",
    "        options=df.TurbID.unique(),\n",
    "        value=df.TurbID.unique()[-2],\n",
    "        description=\"Another Turbine ID\",\n",
    "        style={\"description_width\": \"initial\"},\n",
    "    )\n",
    "    turbine_selection2 = widgets.Dropdown(\n",
    "        options=df.TurbID.unique(),\n",
    "        value=df.TurbID.unique()[-1],\n",
    "        description=\"Another Turbine ID\",\n",
    "        style={\"description_width\": \"initial\"},\n",
    "    )\n",
    "        \n",
    "    feature_selection = widgets.Dropdown(\n",
    "        options=features,\n",
    "        description=\"Feature\",\n",
    "    )\n",
    "    \n",
    "    interact(\n",
    "        _plot,\n",
    "        turbine1=turbine_selection1,\n",
    "        turbine2=turbine_selection2,\n",
    "        feature=feature_selection,\n",
    "    )"
   ]
  },
  {
   "cell_type": "code",
   "execution_count": 49,
   "id": "06ee3402",
   "metadata": {},
   "outputs": [
    {
     "data": {
      "application/vnd.jupyter.widget-view+json": {
       "model_id": "13909687caf64ab79bb35c504cd47449",
       "version_major": 2,
       "version_minor": 0
      },
      "text/plain": [
       "interactive(children=(Dropdown(description='Another Turbine ID', index=7, options=(2, 3, 4, 5, 8, 9, 10, 11, 6…"
      ]
     },
     "metadata": {},
     "output_type": "display_data"
    }
   ],
   "source": [
    "bin_size=32\n",
    "histogram_comparison_plot(top_turbines, numerical_features, bin_size)"
   ]
  },
  {
   "cell_type": "markdown",
   "id": "23694d9d",
   "metadata": {},
   "source": [
    "## Interactive Violin and Box Plot to Demostrate the Data Distribution between Different Turbines"
   ]
  },
  {
   "cell_type": "code",
   "execution_count": 51,
   "id": "26d6631b",
   "metadata": {},
   "outputs": [],
   "source": [
    "def box_violin_plot(df: pd.core.frame.DataFrame, features: List[str]):\n",
    "    labels=df['TurbID'].unique()\n",
    "    \n",
    "    def _plot(feature=\"Wspd\", plot_type=\"box\"):\n",
    "        plt.figure(figsize=(18,8))\n",
    "        scale=\"linear\"\n",
    "        plt.yscale(scale)\n",
    "        \n",
    "        if plot_type == \"violin\":\n",
    "            sns.violinplot(\n",
    "                data=df, y=feature, x=\"TurbID\", order=labels, color=\"seagreen\"\n",
    "            )\n",
    "            \n",
    "        elif plot_type == \"box\":\n",
    "            sns.boxplot(data=df, y=feature, x=\"TurbID\", order=labels, color=\"seagreen\")\n",
    "            \n",
    "        plt.title(f\"Feature: {feature}\", fontsize=25)\n",
    "        plt.ylabel(f\"{feature}\", fontsize=20)\n",
    "        plt.xlabel(f\"TurbID\",  fontsize=20)\n",
    "        plt.tick_params(axis=\"both\", labelsize=15)\n",
    "        \n",
    "        plt.show()\n",
    "        \n",
    "    feature_selection = widgets.Dropdown(\n",
    "        options = features,\n",
    "        description = \"Feature\",\n",
    "    )\n",
    "    \n",
    "    plot_type_selection = widgets.Dropdown(\n",
    "        options=[\"violin\", \"box\"], \n",
    "        description=\"Plot Type\"\n",
    "    )\n",
    "    \n",
    "    interact(_plot, feature=feature_selection, plot_type = plot_type_selection)"
   ]
  },
  {
   "cell_type": "code",
   "execution_count": 52,
   "id": "c89c1580",
   "metadata": {},
   "outputs": [
    {
     "data": {
      "application/vnd.jupyter.widget-view+json": {
       "model_id": "75b6437e3ed447209c1c6807b8707c3c",
       "version_major": 2,
       "version_minor": 0
      },
      "text/plain": [
       "interactive(children=(Dropdown(description='Feature', options=('Wspd', 'Wdir', 'Etmp', 'Itmp', 'Ndir', 'Pab1',…"
      ]
     },
     "metadata": {},
     "output_type": "display_data"
    }
   ],
   "source": [
    "box_violin_plot(top_turbines, numerical_features)"
   ]
  },
  {
   "cell_type": "markdown",
   "id": "ad888dad",
   "metadata": {},
   "source": [
    "## Interactive Scatter Plot to Demostrate the Data Distribution between Different Turbines (Wind speed, energy output and etc.)  "
   ]
  },
  {
   "cell_type": "code",
   "execution_count": 65,
   "id": "e41f1b61",
   "metadata": {},
   "outputs": [],
   "source": [
    "def scatterplot(df: pd.core.frame.DataFrame, features: List[str]):\n",
    "    df_clean=df.dropna(inplace=False)\n",
    "    \n",
    "    def _plot(turbine, var_x, var_y):\n",
    "        plt.figure(figsize=(12,6))\n",
    "        df_clean_2=df_clean[df_clean.TurbID == turbine]\n",
    "        x = df_clean_2[var_x].values\n",
    "        y = df_clean_2[var_y].values\n",
    "        \n",
    "        plt.plot(\n",
    "            x,y,\n",
    "            marker='o', markersize=3, markerfacecolor='blue',\n",
    "            markeredgewidth=0,\n",
    "            linestyle='',\n",
    "            alpha=0.5\n",
    "        )\n",
    "        \n",
    "        plt.xlabel(var_x, fontsize=20)\n",
    "        plt.ylabel(var_y, fontsize=20)\n",
    "        \n",
    "        plt.title(f\"Scatterplot of {var_x} aganist {var_y}\", fontsize=25)\n",
    "        plt.tick_params(axis='both', labelsize=15)\n",
    "        plt.show()\n",
    "        \n",
    "    turbine_selection = widgets.Dropdown(\n",
    "        options=df.TurbID.unique(), value=df.TurbID.unique()[-1], description='Turbine'\n",
    "    )\n",
    "    \n",
    "    x_var_selection =  widgets.Dropdown(\n",
    "        options=features, description = \"X-Axis\")\n",
    "    \n",
    "    y_var_selection = widgets.Dropdown(\n",
    "        options=features, description = \"Y-Axis\", value=\"Patv\"\n",
    "    )\n",
    "    \n",
    "    interact(\n",
    "        _plot,\n",
    "        turbine=turbine_selection,\n",
    "        var_x=x_var_selection,\n",
    "        var_y=y_var_selection,\n",
    "    )"
   ]
  },
  {
   "cell_type": "code",
   "execution_count": 68,
   "id": "088e0c0d",
   "metadata": {},
   "outputs": [
    {
     "data": {
      "application/vnd.jupyter.widget-view+json": {
       "model_id": "c70c58aa048d442abc5e72b9ec382eff",
       "version_major": 2,
       "version_minor": 0
      },
      "text/plain": [
       "interactive(children=(Dropdown(description='Turbine', index=8, options=(2, 3, 4, 5, 8, 9, 10, 11, 69), value=6…"
      ]
     },
     "metadata": {},
     "output_type": "display_data"
    }
   ],
   "source": [
    "scatterplot(top_turbines, numerical_features)"
   ]
  },
  {
   "cell_type": "markdown",
   "id": "202df2f0",
   "metadata": {},
   "source": [
    "## Heatmap to Demostrate Correlations between Variables"
   ]
  },
  {
   "cell_type": "code",
   "execution_count": 69,
   "id": "e070ec1a",
   "metadata": {},
   "outputs": [],
   "source": [
    "def correlation_matrix(data: pd.core.frame.DataFrame):\n",
    "    plt.figure(figsize=(10,10))\n",
    "    sns.heatmap(data.corr(), annot=True, cbar=False, cmap=\"RdBu\", vmin=-1, vmax=1)\n",
    "    plt.title(\"Correlation Matrix for Features\")\n",
    "    plt.show()"
   ]
  },
  {
   "cell_type": "code",
   "execution_count": 71,
   "id": "3da74735",
   "metadata": {},
   "outputs": [
    {
     "data": {
      "image/png": "[encoded data removed]",
      "text/plain": [
       "<Figure size 1000x1000 with 1 Axes>"
      ]
     },
     "metadata": {},
     "output_type": "display_data"
    }
   ],
   "source": [
    "correlation_matrix(top_turbines[numerical_features])"
   ]
  },
  {
   "cell_type": "markdown",
   "id": "3a90e26b",
   "metadata": {},
   "source": [
    "# Time Series"
   ]
  },
  {
   "cell_type": "code",
   "execution_count": 73,
   "id": "83199dfa",
   "metadata": {},
   "outputs": [],
   "source": [
    "#Formating datetime before starting the time series visualisations "
   ]
  },
  {
   "cell_type": "code",
   "execution_count": 74,
   "id": "0af9a0fb",
   "metadata": {},
   "outputs": [],
   "source": [
    "def format_datetime(\n",
    "    data: pd.core.frame.DataFrame, initial_date_str: str\n",
    ") -> pd.core.frame.DataFrame:\n",
    "    \n",
    "    if \"Datetime\" in data.columns:\n",
    "        return data\n",
    "    \n",
    "    initial_date = datetime.strptime(initial_date_str, \"%d %m %Y\").date()\n",
    "    \n",
    "    data[\"Date\"] = data.apply(\n",
    "        lambda x: str(initial_date + timedelta(days=(x.Day -1))), axis=1\n",
    "    )\n",
    "    \n",
    "    data[\"Datetime\"] = data.apply(\n",
    "        lambda x: datetime.strptime(f\"{x.Date} {x.Tmstamp}\", \"%Y-%m-%d %H:%M\"), axis=1\n",
    "    )\n",
    "    \n",
    "    data.drop([\"Day\", \"Tmstamp\", \"Date\"], axis=1, inplace=True)\n",
    "    \n",
    "    data =  data[['Datetime'] + [col for col in list(data.columns) if col != 'Datetime']]\n",
    "    \n",
    "    return data\n"
   ]
  },
  {
   "cell_type": "code",
   "execution_count": 76,
   "id": "79baa76f",
   "metadata": {},
   "outputs": [
    {
     "name": "stderr",
     "output_type": "stream",
     "text": [
      "C:\\Users\\aturk\\AppData\\Local\\Temp\\ipykernel_12156\\2506281425.py:10: SettingWithCopyWarning: \n",
      "A value is trying to be set on a copy of a slice from a DataFrame.\n",
      "Try using .loc[row_indexer,col_indexer] = value instead\n",
      "\n",
      "See the caveats in the documentation: https://pandas.pydata.org/pandas-docs/stable/user_guide/indexing.html#returning-a-view-versus-a-copy\n",
      "  data[\"Date\"] = data.apply(\n",
      "C:\\Users\\aturk\\AppData\\Local\\Temp\\ipykernel_12156\\2506281425.py:14: SettingWithCopyWarning: \n",
      "A value is trying to be set on a copy of a slice from a DataFrame.\n",
      "Try using .loc[row_indexer,col_indexer] = value instead\n",
      "\n",
      "See the caveats in the documentation: https://pandas.pydata.org/pandas-docs/stable/user_guide/indexing.html#returning-a-view-versus-a-copy\n",
      "  data[\"Datetime\"] = data.apply(\n",
      "C:\\Users\\aturk\\AppData\\Local\\Temp\\ipykernel_12156\\2506281425.py:18: SettingWithCopyWarning: \n",
      "A value is trying to be set on a copy of a slice from a DataFrame\n",
      "\n",
      "See the caveats in the documentation: https://pandas.pydata.org/pandas-docs/stable/user_guide/indexing.html#returning-a-view-versus-a-copy\n",
      "  data.drop([\"Day\", \"Tmstamp\", \"Date\"], axis=1, inplace=True)\n"
     ]
    }
   ],
   "source": [
    "raw_data = format_datetime(top_turbines, initial_date_str='01 05 2020')"
   ]
  },
  {
   "cell_type": "code",
   "execution_count": 77,
   "id": "783fb78d",
   "metadata": {},
   "outputs": [
    {
     "data": {
      "text/html": [
       "<div>\n",
       "<style scoped>\n",
       "    .dataframe tbody tr th:only-of-type {\n",
       "        vertical-align: middle;\n",
       "    }\n",
       "\n",
       "    .dataframe tbody tr th {\n",
       "        vertical-align: top;\n",
       "    }\n",
       "\n",
       "    .dataframe thead th {\n",
       "        text-align: right;\n",
       "    }\n",
       "</style>\n",
       "<table border=\"1\" class=\"dataframe\">\n",
       "  <thead>\n",
       "    <tr style=\"text-align: right;\">\n",
       "      <th></th>\n",
       "      <th>Datetime</th>\n",
       "      <th>TurbID</th>\n",
       "      <th>Wspd</th>\n",
       "      <th>Wdir</th>\n",
       "      <th>Etmp</th>\n",
       "      <th>Itmp</th>\n",
       "      <th>Ndir</th>\n",
       "      <th>Pab1</th>\n",
       "      <th>Pab2</th>\n",
       "      <th>Pab3</th>\n",
       "      <th>Prtv</th>\n",
       "      <th>Patv</th>\n",
       "    </tr>\n",
       "  </thead>\n",
       "  <tbody>\n",
       "    <tr>\n",
       "      <th>35281</th>\n",
       "      <td>2020-05-01 00:10:00</td>\n",
       "      <td>2</td>\n",
       "      <td>6.85</td>\n",
       "      <td>-6.73</td>\n",
       "      <td>25.45</td>\n",
       "      <td>35.52</td>\n",
       "      <td>25.25</td>\n",
       "      <td>0.78</td>\n",
       "      <td>0.78</td>\n",
       "      <td>0.78</td>\n",
       "      <td>-0.16</td>\n",
       "      <td>449.83</td>\n",
       "    </tr>\n",
       "    <tr>\n",
       "      <th>35282</th>\n",
       "      <td>2020-05-01 00:20:00</td>\n",
       "      <td>2</td>\n",
       "      <td>7.02</td>\n",
       "      <td>-9.77</td>\n",
       "      <td>25.34</td>\n",
       "      <td>35.85</td>\n",
       "      <td>25.25</td>\n",
       "      <td>0.05</td>\n",
       "      <td>0.05</td>\n",
       "      <td>0.05</td>\n",
       "      <td>-0.19</td>\n",
       "      <td>449.67</td>\n",
       "    </tr>\n",
       "    <tr>\n",
       "      <th>35283</th>\n",
       "      <td>2020-05-01 00:30:00</td>\n",
       "      <td>2</td>\n",
       "      <td>7.26</td>\n",
       "      <td>-9.75</td>\n",
       "      <td>25.29</td>\n",
       "      <td>35.68</td>\n",
       "      <td>25.25</td>\n",
       "      <td>0.68</td>\n",
       "      <td>0.68</td>\n",
       "      <td>0.68</td>\n",
       "      <td>-0.14</td>\n",
       "      <td>474.48</td>\n",
       "    </tr>\n",
       "    <tr>\n",
       "      <th>35284</th>\n",
       "      <td>2020-05-01 00:40:00</td>\n",
       "      <td>2</td>\n",
       "      <td>7.00</td>\n",
       "      <td>-8.40</td>\n",
       "      <td>25.29</td>\n",
       "      <td>35.44</td>\n",
       "      <td>25.25</td>\n",
       "      <td>0.20</td>\n",
       "      <td>0.20</td>\n",
       "      <td>0.20</td>\n",
       "      <td>-0.15</td>\n",
       "      <td>457.90</td>\n",
       "    </tr>\n",
       "    <tr>\n",
       "      <th>35285</th>\n",
       "      <td>2020-05-01 00:50:00</td>\n",
       "      <td>2</td>\n",
       "      <td>6.94</td>\n",
       "      <td>-9.89</td>\n",
       "      <td>25.21</td>\n",
       "      <td>35.34</td>\n",
       "      <td>25.25</td>\n",
       "      <td>0.02</td>\n",
       "      <td>0.02</td>\n",
       "      <td>0.02</td>\n",
       "      <td>-0.18</td>\n",
       "      <td>428.38</td>\n",
       "    </tr>\n",
       "  </tbody>\n",
       "</table>\n",
       "</div>"
      ],
      "text/plain": [
       "                 Datetime  TurbID  Wspd  Wdir   Etmp   Itmp   Ndir  Pab1  \\\n",
       "35281 2020-05-01 00:10:00       2  6.85 -6.73  25.45  35.52  25.25  0.78   \n",
       "35282 2020-05-01 00:20:00       2  7.02 -9.77  25.34  35.85  25.25  0.05   \n",
       "35283 2020-05-01 00:30:00       2  7.26 -9.75  25.29  35.68  25.25  0.68   \n",
       "35284 2020-05-01 00:40:00       2  7.00 -8.40  25.29  35.44  25.25  0.20   \n",
       "35285 2020-05-01 00:50:00       2  6.94 -9.89  25.21  35.34  25.25  0.02   \n",
       "\n",
       "       Pab2  Pab3  Prtv    Patv  \n",
       "35281  0.78  0.78 -0.16  449.83  \n",
       "35282  0.05  0.05 -0.19  449.67  \n",
       "35283  0.68  0.68 -0.14  474.48  \n",
       "35284  0.20  0.20 -0.15  457.90  \n",
       "35285  0.02  0.02 -0.18  428.38  "
      ]
     },
     "execution_count": 77,
     "metadata": {},
     "output_type": "execute_result"
    }
   ],
   "source": [
    "raw_data.head()"
   ]
  },
  {
   "cell_type": "markdown",
   "id": "0f6a49e8",
   "metadata": {},
   "source": [
    "## Plotting time series \n"
   ]
  },
  {
   "cell_type": "code",
   "execution_count": 79,
   "id": "422bd423",
   "metadata": {},
   "outputs": [],
   "source": [
    "def plot_time_series(df: pd.core.frame.DataFrame, features: List[str]):\n",
    "    \n",
    "    def plot_time_series(turbine, feature, date_range, fix_temps):\n",
    "        data = df[df.TurbID == turbine]\n",
    "        \n",
    "        if fix_temps:\n",
    "            min_etemp = data[\"Etmp\"].quantile(0.01)\n",
    "            data['Etmp'] = data['Etmp'].apply(\n",
    "                lambda x: np.nan if x < min_etemp else x\n",
    "            )\n",
    "            \n",
    "            data[\"Etmp\"] = data[\"Etmp\"].interpolate()\n",
    "            min_itemp = data[\"Itmp\"].quantile(0.01)\n",
    "            data[\"Itmp\"] = data[\"Itmp\"].apply(\n",
    "                lambda x: np.nan if x < min_itemp else x\n",
    "            )\n",
    "            \n",
    "            data[\"Itmp\"] = data[\"Itmp\"].interpolate()\n",
    "            \n",
    "        data = data[data.Datetime > date_range[0]]\n",
    "        data = data[data.Datetime < date_range[1]]\n",
    "        \n",
    "        plt.figure(figsize = (15,5))\n",
    "        \n",
    "        plt.plot(data[\"Datetime\"], data[feature], \"-\")\n",
    "        plt.title(f\"Time series of {feature}\", fontsize=25)\n",
    "        plt.ylabel(f\"{feature}\", fontsize=20)\n",
    "        plt.xlabel(f\"Date\", fontsize=20)\n",
    "        plt.tick_params(axis='both', labelsize=15)\n",
    "        plt.show()\n",
    "        \n",
    "    turbine_selection = widgets.Dropdown(\n",
    "        options=df.TurbID.unique(),\n",
    "        value=df.TurbID.unique()[-1],\n",
    "        description=\"Turbine ID\",\n",
    "    )\n",
    "\n",
    "    feature_selection = widgets.Dropdown(\n",
    "        options=features,\n",
    "        description=\"Feature\",\n",
    "    )\n",
    "\n",
    "    dates = pd.date_range(datetime(2020, 5, 1), datetime(2020, 12, 31), freq=\"D\")\n",
    "\n",
    "    options = [(date.strftime(\"%b %d\"), date) for date in dates]\n",
    "    index = (0, len(options) - 1)\n",
    "\n",
    "    date_slider_selection = widgets.SelectionRangeSlider(\n",
    "        options=options,\n",
    "        index=index,\n",
    "        description=\"Date (2020)\",\n",
    "        orientation=\"horizontal\",\n",
    "        layout={\"width\": \"550px\"},\n",
    "    )\n",
    "\n",
    "    fix_temps_button = widgets.Checkbox(\n",
    "        value=False, description=\"Fix Temperatures\", disabled=False\n",
    "    )\n",
    "\n",
    "    interact(\n",
    "        plot_time_series,\n",
    "        turbine=turbine_selection,\n",
    "        feature=feature_selection,\n",
    "        date_range=date_slider_selection,\n",
    "        fix_temps=fix_temps_button,\n",
    "    )       "
   ]
  },
  {
   "cell_type": "code",
   "execution_count": 80,
   "id": "e0014583",
   "metadata": {},
   "outputs": [
    {
     "data": {
      "application/vnd.jupyter.widget-view+json": {
       "model_id": "1d43db03cdcb412c803446e78680331f",
       "version_major": 2,
       "version_minor": 0
      },
      "text/plain": [
       "interactive(children=(Dropdown(description='Turbine ID', index=8, options=(2, 3, 4, 5, 8, 9, 10, 11, 69), valu…"
      ]
     },
     "metadata": {},
     "output_type": "display_data"
    }
   ],
   "source": [
    "plot_time_series(top_turbines, numerical_features)"
   ]
  },
  {
   "cell_type": "markdown",
   "id": "9086767c",
   "metadata": {},
   "source": [
    "## Pair Time Series"
   ]
  },
  {
   "cell_type": "code",
   "execution_count": 81,
   "id": "948b1471",
   "metadata": {},
   "outputs": [],
   "source": [
    "def time_series_turbine_pair(original_df: pd.core.frame.DataFrame, features = List[str]):\n",
    "    \n",
    "    def plot_time_series(turbine_1, turbine_2, feature, date_range, fix_temps):\n",
    "        df = original_df\n",
    "        if fix_temps:\n",
    "            df_2 = original_df.copy(deep=True)\n",
    "            min_etemp = df_2[\"Etmp\"].quantile(0.01)\n",
    "            df_2[\"Etmp\"] = df_2[\"Etmp\"].apply(\n",
    "                lambda x: np.nan if x < min_etemp else x\n",
    "            )\n",
    "            df_2[\"Etmp\"] = df_2[\"Etmp\"].interpolate()\n",
    "            min_itemp = df_2[\"Itmp\"].quantile(0.01)\n",
    "            df_2[\"Itmp\"] = df_2[\"Itmp\"].apply(\n",
    "                lambda x: np.nan if x < min_itemp else x\n",
    "            )\n",
    "            df_2[\"Itmp\"] = df_2[\"Itmp\"].interpolate()\n",
    "            df = df_2\n",
    "\n",
    "        data_1 = df[df.TurbID == turbine_1]\n",
    "        data_1 = data_1[data_1.Datetime > date_range[0]]\n",
    "        data_1 = data_1[data_1.Datetime < date_range[1]]\n",
    "\n",
    "        data_2 = df[df.TurbID == turbine_2]\n",
    "        data_2 = data_2[data_2.Datetime > date_range[0]]\n",
    "        data_2 = data_2[data_2.Datetime < date_range[1]]\n",
    "\n",
    "        fig, (ax1, ax2) = plt.subplots(2, 1, figsize=(15, 5))\n",
    "        ax1.plot(data_1[\"Datetime\"], data_1[feature], \"-\")\n",
    "        ax1.set_title(f\"Time series of {feature} for turbine {turbine_1}\", fontsize=25)\n",
    "        ax2.plot(data_2[\"Datetime\"], data_2[feature], \"-\", c=\"green\")\n",
    "        ax2.set_title(f\"Time series of {feature} for turbine {turbine_2}\", fontsize=25)\n",
    "        ax1.set_ylabel(f\"{feature}\", fontsize=20)\n",
    "        ax2.set_ylabel(f\"{feature}\", fontsize=20)\n",
    "        ax1.set_xlabel(f\"Date\", fontsize=20)\n",
    "        ax2.set_xlabel(f\"Date\", fontsize=20)\n",
    "        plt.tick_params(axis=\"both\", labelsize=15)\n",
    "        plt.tight_layout()\n",
    "        plt.show()\n",
    "\n",
    "    turbine_selection_1 = widgets.Dropdown(\n",
    "        options=original_df.TurbID.unique(),\n",
    "        value=original_df.TurbID.unique()[-2],\n",
    "        description=\"Turbine ID\",\n",
    "    )\n",
    "\n",
    "    turbine_selection_2 = widgets.Dropdown(\n",
    "        options=original_df.TurbID.unique(),\n",
    "        value=original_df.TurbID.unique()[-1],\n",
    "        description=\"Another Turbine ID\",\n",
    "        style={\"description_width\": \"initial\"},\n",
    "    )\n",
    "\n",
    "    feature_selection = widgets.Dropdown(\n",
    "        options=features,\n",
    "        description=\"Feature\",\n",
    "    )\n",
    "\n",
    "    fix_temps_button = widgets.Checkbox(\n",
    "        value=False, description=\"Fix Temperatures\", disabled=False\n",
    "    )\n",
    "\n",
    "    dates = pd.date_range(datetime(2020, 5, 1), datetime(2020, 12, 31), freq=\"D\")\n",
    "\n",
    "    options = [(date.strftime(\"%b %d\"), date) for date in dates]\n",
    "    index = (0, len(options) - 1)\n",
    "\n",
    "    date_slider_selection = widgets.SelectionRangeSlider(\n",
    "        options=options,\n",
    "        index=index,\n",
    "        description=\"Date (2020)\",\n",
    "        orientation=\"horizontal\",\n",
    "        layout={\"width\": \"550px\"},\n",
    "    )\n",
    "\n",
    "    interact(\n",
    "        plot_time_series,\n",
    "        turbine_1=turbine_selection_1,\n",
    "        turbine_2=turbine_selection_2,\n",
    "        feature=feature_selection,\n",
    "        date_range=date_slider_selection,\n",
    "        fix_temps=fix_temps_button,\n",
    "    )"
   ]
  },
  {
   "cell_type": "code",
   "execution_count": 82,
   "id": "8f5ad803",
   "metadata": {},
   "outputs": [
    {
     "data": {
      "application/vnd.jupyter.widget-view+json": {
       "model_id": "e5a5e85a656c430b9c045d44a5635b2e",
       "version_major": 2,
       "version_minor": 0
      },
      "text/plain": [
       "interactive(children=(Dropdown(description='Turbine ID', index=7, options=(2, 3, 4, 5, 8, 9, 10, 11, 69), valu…"
      ]
     },
     "metadata": {},
     "output_type": "display_data"
    }
   ],
   "source": [
    "time_series_turbine_pair(top_turbines, numerical_features)"
   ]
  },
  {
   "cell_type": "code",
   "execution_count": null,
   "id": "4cafdc62",
   "metadata": {},
   "outputs": [],
   "source": []
  }
 ],
 "metadata": {
  "kernelspec": {
   "display_name": "Python 3 (ipykernel)",
   "language": "python",
   "name": "python3"
  },
  "language_info": {
   "codemirror_mode": {
    "name": "ipython",
    "version": 3
   },
   "file_extension": ".py",
   "mimetype": "text/x-python",
   "name": "python",
   "nbconvert_exporter": "python",
   "pygments_lexer": "ipython3",
   "version": "3.11.5"
  }
 },
 "nbformat": 4,
 "nbformat_minor": 5
}
