{
 "cells": [
  {
   "cell_type": "markdown",
   "id": "467a99e8",
   "metadata": {},
   "source": [
    "# Importing packages and setting the requirement for the model"
   ]
  },
  {
   "cell_type": "code",
   "execution_count": 1,
   "id": "4b8bfcbb",
   "metadata": {},
   "outputs": [],
   "source": [
    "#Importing packages \n",
    "import pandas as pd\n",
    "import numpy as np\n",
    "import scipy.stats as stats\n",
    "import statsmodels.stats.api as sms\n",
    "import matplotlib as mpl\n",
    "import matplotlib.pyplot as plt\n",
    "import seaborn as sns\n",
    "from math import ceil\n",
    "\n",
    "get_ipython().run_line_magic('matplotlib', 'inline')\n",
    "\n",
    "#Setting Plot styling \n",
    "plt.style.use('seaborn-whitegrid')\n",
    "\n",
    "#Calculating the effect size based on expected rates\n",
    "#Pessimistic speech about climate change convince people to believe in climate change with a mean of 0.13\n",
    "#New approach, Optimistic speech about climate change will convince people with 2% lift, with a mean of 0.15\n",
    "#https://machinelearningmastery.com/effect-size-measures-in-python/\n",
    "\n",
    "effect_size=sms.proportion_effectsize(0.13,0.15)\n"
   ]
  },
  {
   "cell_type": "code",
   "execution_count": 2,
   "id": "9b044747",
   "metadata": {},
   "outputs": [
    {
     "name": "stdout",
     "output_type": "stream",
     "text": [
      "To conduct the hypothesis, we need at least 4720 samples from each group\n"
     ]
    }
   ],
   "source": [
    "# Sample size is estimated through Power Analysis\n",
    "#80% power means that we have about 80% chance to detect that the difference is as statistically significant as in our test with the sample size calculated \n",
    "required_n=sms.NormalIndPower().solve_power(\n",
    "    effect_size,\n",
    "    power=0.8,\n",
    "    alpha=0.05,\n",
    "    ratio=1\n",
    "    )\n",
    "\n",
    "#rounding up the sample size\n",
    "required_n=ceil(required_n)\n",
    "print(\"To conduct the hypothesis, we need at least\", required_n, \"samples from each group\")\n"
   ]
  },
  {
   "cell_type": "markdown",
   "id": "92dbdbd4",
   "metadata": {},
   "source": [
    "# Pulling the data and reformatting it\n"
   ]
  },
  {
   "cell_type": "code",
   "execution_count": 3,
   "id": "6ba4067f",
   "metadata": {},
   "outputs": [
    {
     "data": {
      "text/html": [
       "<div>\n",
       "<style scoped>\n",
       "    .dataframe tbody tr th:only-of-type {\n",
       "        vertical-align: middle;\n",
       "    }\n",
       "\n",
       "    .dataframe tbody tr th {\n",
       "        vertical-align: top;\n",
       "    }\n",
       "\n",
       "    .dataframe thead th {\n",
       "        text-align: right;\n",
       "    }\n",
       "</style>\n",
       "<table border=\"1\" class=\"dataframe\">\n",
       "  <thead>\n",
       "    <tr style=\"text-align: right;\">\n",
       "      <th></th>\n",
       "      <th>user_id</th>\n",
       "      <th>timestamp</th>\n",
       "      <th>group</th>\n",
       "      <th>landing_page</th>\n",
       "      <th>converted</th>\n",
       "    </tr>\n",
       "  </thead>\n",
       "  <tbody>\n",
       "    <tr>\n",
       "      <th>0</th>\n",
       "      <td>851104</td>\n",
       "      <td>2017-01-21 22:11:48.556739</td>\n",
       "      <td>control</td>\n",
       "      <td>old_page</td>\n",
       "      <td>0</td>\n",
       "    </tr>\n",
       "    <tr>\n",
       "      <th>1</th>\n",
       "      <td>804228</td>\n",
       "      <td>2017-01-12 08:01:45.159739</td>\n",
       "      <td>control</td>\n",
       "      <td>old_page</td>\n",
       "      <td>0</td>\n",
       "    </tr>\n",
       "    <tr>\n",
       "      <th>2</th>\n",
       "      <td>661590</td>\n",
       "      <td>2017-01-11 16:55:06.154213</td>\n",
       "      <td>treatment</td>\n",
       "      <td>new_page</td>\n",
       "      <td>0</td>\n",
       "    </tr>\n",
       "    <tr>\n",
       "      <th>3</th>\n",
       "      <td>853541</td>\n",
       "      <td>2017-01-08 18:28:03.143765</td>\n",
       "      <td>treatment</td>\n",
       "      <td>new_page</td>\n",
       "      <td>0</td>\n",
       "    </tr>\n",
       "    <tr>\n",
       "      <th>4</th>\n",
       "      <td>864975</td>\n",
       "      <td>2017-01-21 01:52:26.210827</td>\n",
       "      <td>control</td>\n",
       "      <td>old_page</td>\n",
       "      <td>1</td>\n",
       "    </tr>\n",
       "  </tbody>\n",
       "</table>\n",
       "</div>"
      ],
      "text/plain": [
       "   user_id                   timestamp      group landing_page  converted\n",
       "0   851104  2017-01-21 22:11:48.556739    control     old_page          0\n",
       "1   804228  2017-01-12 08:01:45.159739    control     old_page          0\n",
       "2   661590  2017-01-11 16:55:06.154213  treatment     new_page          0\n",
       "3   853541  2017-01-08 18:28:03.143765  treatment     new_page          0\n",
       "4   864975  2017-01-21 01:52:26.210827    control     old_page          1"
      ]
     },
     "execution_count": 3,
     "metadata": {},
     "output_type": "execute_result"
    }
   ],
   "source": [
    "#This is a A/B testing dataset i found in kaggle.I will transform it to a content that will seem more like a climate change research\n",
    "df=pd.read_csv(r\"C:\\Users\\aturk\\Downloads\\ab_data.csv\")\n",
    "df.head()\n"
   ]
  },
  {
   "cell_type": "code",
   "execution_count": 4,
   "id": "4cf170fb",
   "metadata": {},
   "outputs": [
    {
     "data": {
      "text/html": [
       "<div>\n",
       "<style scoped>\n",
       "    .dataframe tbody tr th:only-of-type {\n",
       "        vertical-align: middle;\n",
       "    }\n",
       "\n",
       "    .dataframe tbody tr th {\n",
       "        vertical-align: top;\n",
       "    }\n",
       "\n",
       "    .dataframe thead th {\n",
       "        text-align: right;\n",
       "    }\n",
       "</style>\n",
       "<table border=\"1\" class=\"dataframe\">\n",
       "  <thead>\n",
       "    <tr style=\"text-align: right;\">\n",
       "      <th></th>\n",
       "      <th>user_id</th>\n",
       "      <th>timestamp</th>\n",
       "      <th>group</th>\n",
       "      <th>Speech Type</th>\n",
       "      <th>Convinced</th>\n",
       "    </tr>\n",
       "  </thead>\n",
       "  <tbody>\n",
       "    <tr>\n",
       "      <th>0</th>\n",
       "      <td>851104</td>\n",
       "      <td>2017-01-21 22:11:48.556739</td>\n",
       "      <td>control</td>\n",
       "      <td>old_page</td>\n",
       "      <td>0</td>\n",
       "    </tr>\n",
       "    <tr>\n",
       "      <th>1</th>\n",
       "      <td>804228</td>\n",
       "      <td>2017-01-12 08:01:45.159739</td>\n",
       "      <td>control</td>\n",
       "      <td>old_page</td>\n",
       "      <td>0</td>\n",
       "    </tr>\n",
       "    <tr>\n",
       "      <th>2</th>\n",
       "      <td>661590</td>\n",
       "      <td>2017-01-11 16:55:06.154213</td>\n",
       "      <td>treatment</td>\n",
       "      <td>new_page</td>\n",
       "      <td>0</td>\n",
       "    </tr>\n",
       "    <tr>\n",
       "      <th>3</th>\n",
       "      <td>853541</td>\n",
       "      <td>2017-01-08 18:28:03.143765</td>\n",
       "      <td>treatment</td>\n",
       "      <td>new_page</td>\n",
       "      <td>0</td>\n",
       "    </tr>\n",
       "    <tr>\n",
       "      <th>4</th>\n",
       "      <td>864975</td>\n",
       "      <td>2017-01-21 01:52:26.210827</td>\n",
       "      <td>control</td>\n",
       "      <td>old_page</td>\n",
       "      <td>1</td>\n",
       "    </tr>\n",
       "  </tbody>\n",
       "</table>\n",
       "</div>"
      ],
      "text/plain": [
       "   user_id                   timestamp      group Speech Type  Convinced\n",
       "0   851104  2017-01-21 22:11:48.556739    control    old_page          0\n",
       "1   804228  2017-01-12 08:01:45.159739    control    old_page          0\n",
       "2   661590  2017-01-11 16:55:06.154213  treatment    new_page          0\n",
       "3   853541  2017-01-08 18:28:03.143765  treatment    new_page          0\n",
       "4   864975  2017-01-21 01:52:26.210827    control    old_page          1"
      ]
     },
     "execution_count": 4,
     "metadata": {},
     "output_type": "execute_result"
    }
   ],
   "source": [
    "#Renaming columns\n",
    "df.rename(columns={'landing_page':'Speech Type', 'converted':'Convinced'}, inplace=True)\n",
    "df.head()\n"
   ]
  },
  {
   "cell_type": "code",
   "execution_count": 5,
   "id": "e2eb6dcf",
   "metadata": {},
   "outputs": [
    {
     "data": {
      "text/html": [
       "<div>\n",
       "<style scoped>\n",
       "    .dataframe tbody tr th:only-of-type {\n",
       "        vertical-align: middle;\n",
       "    }\n",
       "\n",
       "    .dataframe tbody tr th {\n",
       "        vertical-align: top;\n",
       "    }\n",
       "\n",
       "    .dataframe thead th {\n",
       "        text-align: right;\n",
       "    }\n",
       "</style>\n",
       "<table border=\"1\" class=\"dataframe\">\n",
       "  <thead>\n",
       "    <tr style=\"text-align: right;\">\n",
       "      <th></th>\n",
       "      <th>user_id</th>\n",
       "      <th>timestamp</th>\n",
       "      <th>group</th>\n",
       "      <th>Speech Type</th>\n",
       "      <th>Convinced</th>\n",
       "    </tr>\n",
       "  </thead>\n",
       "  <tbody>\n",
       "    <tr>\n",
       "      <th>0</th>\n",
       "      <td>851104</td>\n",
       "      <td>2017-01-21 22:11:48.556739</td>\n",
       "      <td>Control</td>\n",
       "      <td>old_page</td>\n",
       "      <td>0</td>\n",
       "    </tr>\n",
       "    <tr>\n",
       "      <th>1</th>\n",
       "      <td>804228</td>\n",
       "      <td>2017-01-12 08:01:45.159739</td>\n",
       "      <td>Control</td>\n",
       "      <td>old_page</td>\n",
       "      <td>0</td>\n",
       "    </tr>\n",
       "    <tr>\n",
       "      <th>2</th>\n",
       "      <td>661590</td>\n",
       "      <td>2017-01-11 16:55:06.154213</td>\n",
       "      <td>New</td>\n",
       "      <td>new_page</td>\n",
       "      <td>0</td>\n",
       "    </tr>\n",
       "    <tr>\n",
       "      <th>3</th>\n",
       "      <td>853541</td>\n",
       "      <td>2017-01-08 18:28:03.143765</td>\n",
       "      <td>New</td>\n",
       "      <td>new_page</td>\n",
       "      <td>0</td>\n",
       "    </tr>\n",
       "    <tr>\n",
       "      <th>4</th>\n",
       "      <td>864975</td>\n",
       "      <td>2017-01-21 01:52:26.210827</td>\n",
       "      <td>Control</td>\n",
       "      <td>old_page</td>\n",
       "      <td>1</td>\n",
       "    </tr>\n",
       "  </tbody>\n",
       "</table>\n",
       "</div>"
      ],
      "text/plain": [
       "   user_id                   timestamp    group Speech Type  Convinced\n",
       "0   851104  2017-01-21 22:11:48.556739  Control    old_page          0\n",
       "1   804228  2017-01-12 08:01:45.159739  Control    old_page          0\n",
       "2   661590  2017-01-11 16:55:06.154213      New    new_page          0\n",
       "3   853541  2017-01-08 18:28:03.143765      New    new_page          0\n",
       "4   864975  2017-01-21 01:52:26.210827  Control    old_page          1"
      ]
     },
     "execution_count": 5,
     "metadata": {},
     "output_type": "execute_result"
    }
   ],
   "source": [
    "#Renaming values in columns\n",
    "df['group'].replace({'control':'Control','treatment':'New'}, inplace=True)\n",
    "df.head()\n"
   ]
  },
  {
   "cell_type": "code",
   "execution_count": 6,
   "id": "e9445c4d",
   "metadata": {},
   "outputs": [
    {
     "data": {
      "text/html": [
       "<div>\n",
       "<style scoped>\n",
       "    .dataframe tbody tr th:only-of-type {\n",
       "        vertical-align: middle;\n",
       "    }\n",
       "\n",
       "    .dataframe tbody tr th {\n",
       "        vertical-align: top;\n",
       "    }\n",
       "\n",
       "    .dataframe thead th {\n",
       "        text-align: right;\n",
       "    }\n",
       "</style>\n",
       "<table border=\"1\" class=\"dataframe\">\n",
       "  <thead>\n",
       "    <tr style=\"text-align: right;\">\n",
       "      <th></th>\n",
       "      <th>user_id</th>\n",
       "      <th>timestamp</th>\n",
       "      <th>group</th>\n",
       "      <th>Speech Type</th>\n",
       "      <th>Convinced</th>\n",
       "    </tr>\n",
       "  </thead>\n",
       "  <tbody>\n",
       "    <tr>\n",
       "      <th>0</th>\n",
       "      <td>851104</td>\n",
       "      <td>2017-01-21 22:11:48.556739</td>\n",
       "      <td>Control</td>\n",
       "      <td>Pessimistic</td>\n",
       "      <td>0</td>\n",
       "    </tr>\n",
       "    <tr>\n",
       "      <th>1</th>\n",
       "      <td>804228</td>\n",
       "      <td>2017-01-12 08:01:45.159739</td>\n",
       "      <td>Control</td>\n",
       "      <td>Pessimistic</td>\n",
       "      <td>0</td>\n",
       "    </tr>\n",
       "    <tr>\n",
       "      <th>2</th>\n",
       "      <td>661590</td>\n",
       "      <td>2017-01-11 16:55:06.154213</td>\n",
       "      <td>New</td>\n",
       "      <td>Optimistic</td>\n",
       "      <td>0</td>\n",
       "    </tr>\n",
       "    <tr>\n",
       "      <th>3</th>\n",
       "      <td>853541</td>\n",
       "      <td>2017-01-08 18:28:03.143765</td>\n",
       "      <td>New</td>\n",
       "      <td>Optimistic</td>\n",
       "      <td>0</td>\n",
       "    </tr>\n",
       "    <tr>\n",
       "      <th>4</th>\n",
       "      <td>864975</td>\n",
       "      <td>2017-01-21 01:52:26.210827</td>\n",
       "      <td>Control</td>\n",
       "      <td>Pessimistic</td>\n",
       "      <td>1</td>\n",
       "    </tr>\n",
       "  </tbody>\n",
       "</table>\n",
       "</div>"
      ],
      "text/plain": [
       "   user_id                   timestamp    group  Speech Type  Convinced\n",
       "0   851104  2017-01-21 22:11:48.556739  Control  Pessimistic          0\n",
       "1   804228  2017-01-12 08:01:45.159739  Control  Pessimistic          0\n",
       "2   661590  2017-01-11 16:55:06.154213      New   Optimistic          0\n",
       "3   853541  2017-01-08 18:28:03.143765      New   Optimistic          0\n",
       "4   864975  2017-01-21 01:52:26.210827  Control  Pessimistic          1"
      ]
     },
     "execution_count": 6,
     "metadata": {},
     "output_type": "execute_result"
    }
   ],
   "source": [
    "#Renaming values in columns\n",
    "df['Speech Type'].replace({'old_page':'Pessimistic','new_page':'Optimistic'}, inplace=True)\n",
    "df.head()\n"
   ]
  },
  {
   "cell_type": "code",
   "execution_count": 7,
   "id": "3fa91676",
   "metadata": {},
   "outputs": [
    {
     "name": "stdout",
     "output_type": "stream",
     "text": [
      "<class 'pandas.core.frame.DataFrame'>\n",
      "RangeIndex: 294478 entries, 0 to 294477\n",
      "Data columns (total 5 columns):\n",
      " #   Column       Non-Null Count   Dtype \n",
      "---  ------       --------------   ----- \n",
      " 0   user_id      294478 non-null  int64 \n",
      " 1   timestamp    294478 non-null  object\n",
      " 2   group        294478 non-null  object\n",
      " 3   Speech Type  294478 non-null  object\n",
      " 4   Convinced    294478 non-null  int64 \n",
      "dtypes: int64(2), object(3)\n",
      "memory usage: 11.2+ MB\n"
     ]
    }
   ],
   "source": [
    "df.info()"
   ]
  },
  {
   "cell_type": "code",
   "execution_count": 8,
   "id": "55b30268",
   "metadata": {},
   "outputs": [
    {
     "data": {
      "text/html": [
       "<div>\n",
       "<style scoped>\n",
       "    .dataframe tbody tr th:only-of-type {\n",
       "        vertical-align: middle;\n",
       "    }\n",
       "\n",
       "    .dataframe tbody tr th {\n",
       "        vertical-align: top;\n",
       "    }\n",
       "\n",
       "    .dataframe thead th {\n",
       "        text-align: right;\n",
       "    }\n",
       "</style>\n",
       "<table border=\"1\" class=\"dataframe\">\n",
       "  <thead>\n",
       "    <tr style=\"text-align: right;\">\n",
       "      <th>Speech Type</th>\n",
       "      <th>Optimistic</th>\n",
       "      <th>Pessimistic</th>\n",
       "    </tr>\n",
       "    <tr>\n",
       "      <th>group</th>\n",
       "      <th></th>\n",
       "      <th></th>\n",
       "    </tr>\n",
       "  </thead>\n",
       "  <tbody>\n",
       "    <tr>\n",
       "      <th>Control</th>\n",
       "      <td>1928</td>\n",
       "      <td>145274</td>\n",
       "    </tr>\n",
       "    <tr>\n",
       "      <th>New</th>\n",
       "      <td>145311</td>\n",
       "      <td>1965</td>\n",
       "    </tr>\n",
       "  </tbody>\n",
       "</table>\n",
       "</div>"
      ],
      "text/plain": [
       "Speech Type  Optimistic  Pessimistic\n",
       "group                               \n",
       "Control            1928       145274\n",
       "New              145311         1965"
      ]
     },
     "execution_count": 8,
     "metadata": {},
     "output_type": "execute_result"
    }
   ],
   "source": [
    "pd.crosstab(df['group'],df['Speech Type'])\n"
   ]
  },
  {
   "cell_type": "code",
   "execution_count": 9,
   "id": "5735057e",
   "metadata": {},
   "outputs": [
    {
     "name": "stdout",
     "output_type": "stream",
     "text": [
      "There are 3894 users that appear multiple times in the dataset\n"
     ]
    }
   ],
   "source": [
    "#Checking for double users\n",
    "session_count=df['user_id'].value_counts(ascending=False)\n",
    "multi_users=session_count[session_count>1].count()\n",
    "print(f'There are {multi_users} users that appear multiple times in the dataset')"
   ]
  },
  {
   "cell_type": "code",
   "execution_count": 10,
   "id": "6dc73267",
   "metadata": {},
   "outputs": [
    {
     "name": "stdout",
     "output_type": "stream",
     "text": [
      "The new dataset has 286690 entries\n"
     ]
    }
   ],
   "source": [
    "#Removing double users\n",
    "drop_multiple=session_count[session_count>1].index\n",
    "df=df[~df['user_id'].isin(drop_multiple)]\n",
    "print(f'The new dataset has {df.shape[0]} entries')"
   ]
  },
  {
   "cell_type": "code",
   "execution_count": 11,
   "id": "5e21f7cc",
   "metadata": {},
   "outputs": [
    {
     "data": {
      "text/html": [
       "<div>\n",
       "<style scoped>\n",
       "    .dataframe tbody tr th:only-of-type {\n",
       "        vertical-align: middle;\n",
       "    }\n",
       "\n",
       "    .dataframe tbody tr th {\n",
       "        vertical-align: top;\n",
       "    }\n",
       "\n",
       "    .dataframe thead th {\n",
       "        text-align: right;\n",
       "    }\n",
       "</style>\n",
       "<table border=\"1\" class=\"dataframe\">\n",
       "  <thead>\n",
       "    <tr style=\"text-align: right;\">\n",
       "      <th></th>\n",
       "      <th>user_id</th>\n",
       "      <th>timestamp</th>\n",
       "      <th>group</th>\n",
       "      <th>Speech Type</th>\n",
       "      <th>Convinced</th>\n",
       "    </tr>\n",
       "  </thead>\n",
       "  <tbody>\n",
       "    <tr>\n",
       "      <th>0</th>\n",
       "      <td>763854</td>\n",
       "      <td>2017-01-21 03:43:17.188315</td>\n",
       "      <td>Control</td>\n",
       "      <td>Pessimistic</td>\n",
       "      <td>0</td>\n",
       "    </tr>\n",
       "    <tr>\n",
       "      <th>1</th>\n",
       "      <td>690555</td>\n",
       "      <td>2017-01-18 06:38:13.079449</td>\n",
       "      <td>Control</td>\n",
       "      <td>Pessimistic</td>\n",
       "      <td>0</td>\n",
       "    </tr>\n",
       "    <tr>\n",
       "      <th>2</th>\n",
       "      <td>861520</td>\n",
       "      <td>2017-01-06 21:13:40.044766</td>\n",
       "      <td>Control</td>\n",
       "      <td>Pessimistic</td>\n",
       "      <td>0</td>\n",
       "    </tr>\n",
       "    <tr>\n",
       "      <th>3</th>\n",
       "      <td>630778</td>\n",
       "      <td>2017-01-05 16:42:36.995204</td>\n",
       "      <td>Control</td>\n",
       "      <td>Pessimistic</td>\n",
       "      <td>0</td>\n",
       "    </tr>\n",
       "    <tr>\n",
       "      <th>4</th>\n",
       "      <td>656634</td>\n",
       "      <td>2017-01-04 15:31:21.676130</td>\n",
       "      <td>Control</td>\n",
       "      <td>Pessimistic</td>\n",
       "      <td>0</td>\n",
       "    </tr>\n",
       "    <tr>\n",
       "      <th>...</th>\n",
       "      <td>...</td>\n",
       "      <td>...</td>\n",
       "      <td>...</td>\n",
       "      <td>...</td>\n",
       "      <td>...</td>\n",
       "    </tr>\n",
       "    <tr>\n",
       "      <th>9435</th>\n",
       "      <td>908512</td>\n",
       "      <td>2017-01-14 22:02:29.922674</td>\n",
       "      <td>New</td>\n",
       "      <td>Optimistic</td>\n",
       "      <td>0</td>\n",
       "    </tr>\n",
       "    <tr>\n",
       "      <th>9436</th>\n",
       "      <td>873211</td>\n",
       "      <td>2017-01-05 00:57:16.167151</td>\n",
       "      <td>New</td>\n",
       "      <td>Optimistic</td>\n",
       "      <td>0</td>\n",
       "    </tr>\n",
       "    <tr>\n",
       "      <th>9437</th>\n",
       "      <td>631276</td>\n",
       "      <td>2017-01-20 18:56:58.167809</td>\n",
       "      <td>New</td>\n",
       "      <td>Optimistic</td>\n",
       "      <td>0</td>\n",
       "    </tr>\n",
       "    <tr>\n",
       "      <th>9438</th>\n",
       "      <td>662301</td>\n",
       "      <td>2017-01-03 08:10:57.768806</td>\n",
       "      <td>New</td>\n",
       "      <td>Optimistic</td>\n",
       "      <td>0</td>\n",
       "    </tr>\n",
       "    <tr>\n",
       "      <th>9439</th>\n",
       "      <td>944623</td>\n",
       "      <td>2017-01-19 10:56:01.648653</td>\n",
       "      <td>New</td>\n",
       "      <td>Optimistic</td>\n",
       "      <td>1</td>\n",
       "    </tr>\n",
       "  </tbody>\n",
       "</table>\n",
       "<p>9440 rows × 5 columns</p>\n",
       "</div>"
      ],
      "text/plain": [
       "      user_id                   timestamp    group  Speech Type  Convinced\n",
       "0      763854  2017-01-21 03:43:17.188315  Control  Pessimistic          0\n",
       "1      690555  2017-01-18 06:38:13.079449  Control  Pessimistic          0\n",
       "2      861520  2017-01-06 21:13:40.044766  Control  Pessimistic          0\n",
       "3      630778  2017-01-05 16:42:36.995204  Control  Pessimistic          0\n",
       "4      656634  2017-01-04 15:31:21.676130  Control  Pessimistic          0\n",
       "...       ...                         ...      ...          ...        ...\n",
       "9435   908512  2017-01-14 22:02:29.922674      New   Optimistic          0\n",
       "9436   873211  2017-01-05 00:57:16.167151      New   Optimistic          0\n",
       "9437   631276  2017-01-20 18:56:58.167809      New   Optimistic          0\n",
       "9438   662301  2017-01-03 08:10:57.768806      New   Optimistic          0\n",
       "9439   944623  2017-01-19 10:56:01.648653      New   Optimistic          1\n",
       "\n",
       "[9440 rows x 5 columns]"
      ]
     },
     "execution_count": 11,
     "metadata": {},
     "output_type": "execute_result"
    }
   ],
   "source": [
    "#Creating sample groups from df dataset\n",
    "control_sample=df[df['group']=='Control'].sample(n=required_n, random_state=22)\n",
    "new_sample=df[df['group']=='New'].sample(n=required_n, random_state=22)\n",
    "ab_test=pd.concat([control_sample, new_sample], axis=0)\n",
    "ab_test.reset_index(drop=True, inplace=True)\n",
    "\n",
    "ab_test"
   ]
  },
  {
   "cell_type": "code",
   "execution_count": 12,
   "id": "7b203da0",
   "metadata": {},
   "outputs": [
    {
     "name": "stdout",
     "output_type": "stream",
     "text": [
      "<class 'pandas.core.frame.DataFrame'>\n",
      "RangeIndex: 9440 entries, 0 to 9439\n",
      "Data columns (total 5 columns):\n",
      " #   Column       Non-Null Count  Dtype \n",
      "---  ------       --------------  ----- \n",
      " 0   user_id      9440 non-null   int64 \n",
      " 1   timestamp    9440 non-null   object\n",
      " 2   group        9440 non-null   object\n",
      " 3   Speech Type  9440 non-null   object\n",
      " 4   Convinced    9440 non-null   int64 \n",
      "dtypes: int64(2), object(3)\n",
      "memory usage: 368.9+ KB\n"
     ]
    }
   ],
   "source": [
    "ab_test.info()"
   ]
  },
  {
   "cell_type": "code",
   "execution_count": 13,
   "id": "41beab42",
   "metadata": {},
   "outputs": [
    {
     "data": {
      "text/plain": [
       "Control    4720\n",
       "New        4720\n",
       "Name: group, dtype: int64"
      ]
     },
     "execution_count": 13,
     "metadata": {},
     "output_type": "execute_result"
    }
   ],
   "source": [
    "ab_test['group'].value_counts()\n",
    "#We need 4720 sample size in each group "
   ]
  },
  {
   "cell_type": "code",
   "execution_count": null,
   "id": "a4d726ce",
   "metadata": {},
   "outputs": [],
   "source": []
  },
  {
   "cell_type": "markdown",
   "id": "5b9fdf10",
   "metadata": {},
   "source": [
    "# Visualising basic statistics of the groups"
   ]
  },
  {
   "cell_type": "code",
   "execution_count": 15,
   "id": "679a098d",
   "metadata": {},
   "outputs": [
    {
     "data": {
      "text/html": [
       "<style type=\"text/css\">\n",
       "</style>\n",
       "<table id=\"T_e76d7_\">\n",
       "  <thead>\n",
       "    <tr>\n",
       "      <th class=\"blank level0\" >&nbsp;</th>\n",
       "      <th class=\"col_heading level0 col0\" >Conversion Rate</th>\n",
       "      <th class=\"col_heading level0 col1\" >Standard Deviation</th>\n",
       "      <th class=\"col_heading level0 col2\" >Standard Error</th>\n",
       "    </tr>\n",
       "    <tr>\n",
       "      <th class=\"index_name level0\" >group</th>\n",
       "      <th class=\"blank col0\" >&nbsp;</th>\n",
       "      <th class=\"blank col1\" >&nbsp;</th>\n",
       "      <th class=\"blank col2\" >&nbsp;</th>\n",
       "    </tr>\n",
       "  </thead>\n",
       "  <tbody>\n",
       "    <tr>\n",
       "      <th id=\"T_e76d7_level0_row0\" class=\"row_heading level0 row0\" >Control</th>\n",
       "      <td id=\"T_e76d7_row0_col0\" class=\"data row0 col0\" >0.12</td>\n",
       "      <td id=\"T_e76d7_row0_col1\" class=\"data row0 col1\" >0.33</td>\n",
       "      <td id=\"T_e76d7_row0_col2\" class=\"data row0 col2\" >0.00</td>\n",
       "    </tr>\n",
       "    <tr>\n",
       "      <th id=\"T_e76d7_level0_row1\" class=\"row_heading level0 row1\" >New</th>\n",
       "      <td id=\"T_e76d7_row1_col0\" class=\"data row1 col0\" >0.13</td>\n",
       "      <td id=\"T_e76d7_row1_col1\" class=\"data row1 col1\" >0.33</td>\n",
       "      <td id=\"T_e76d7_row1_col2\" class=\"data row1 col2\" >0.00</td>\n",
       "    </tr>\n",
       "  </tbody>\n",
       "</table>\n"
      ],
      "text/plain": [
       "<pandas.io.formats.style.Styler at 0x1640cf7e460>"
      ]
     },
     "execution_count": 15,
     "metadata": {},
     "output_type": "execute_result"
    }
   ],
   "source": [
    "success_rate=ab_test.groupby('group')['Convinced']\n",
    "\n",
    "#Standard deviation of the groups\n",
    "std_info=lambda x: np.std(x, ddof=0)\n",
    "\n",
    "#Standard error of the groups\n",
    "se_info=lambda x: stats.sem(x, ddof=0)\n",
    "\n",
    "success_rate = success_rate.agg([np.mean, std_info, se_info])\n",
    "success_rate.columns=['Conversion Rate', 'Standard Deviation', 'Standard Error']\n",
    "\n",
    "#Expected mean difference was given in 2 digits therefore i set the results to 2 digit\n",
    "success_rate.style.format(\"{:.2f}\")\n",
    "\n",
    "#Mean of the control group, 0.12, is lower than expected, 0.13\n",
    "#Difference of means, 0.01, is lower than expected, 0.02, however it still indicates an improvement"
   ]
  },
  {
   "cell_type": "code",
   "execution_count": 20,
   "id": "b311dfa7",
   "metadata": {},
   "outputs": [
    {
     "data": {
      "image/png": "[encoded data removed]",
      "text/plain": [
       "<Figure size 576x432 with 1 Axes>"
      ]
     },
     "metadata": {},
     "output_type": "display_data"
    }
   ],
   "source": [
    "#Visualing the success rate with 95% confidence interval\n",
    "plt.figure(figsize=(8,6))\n",
    "\n",
    "sns.barplot(x=ab_test['group'] ,y=ab_test['Convinced'], ci=95)\n",
    "\n",
    "plt.ylim(0,0.17)\n",
    "plt.title('Success rate by Group', pad=20)\n",
    "plt.xlabel('group', labelpad=15)\n",
    "\n",
    "plt.ylabel('Convince Rate', labelpad=15);\n",
    "\n",
    "#It is seen that New group who experienced an optimistic speech about climate change had a better success rate\n",
    "#However we cannot yet say that it is statistically significant without checking the p value as our result migth be positive randomly"
   ]
  },
  {
   "cell_type": "markdown",
   "id": "7e95054d",
   "metadata": {},
   "source": [
    "# Testing the Hypothesis"
   ]
  },
  {
   "cell_type": "code",
   "execution_count": 25,
   "id": "e2e23bc3",
   "metadata": {},
   "outputs": [
    {
     "name": "stdout",
     "output_type": "stream",
     "text": [
      "0       0\n",
      "1       0\n",
      "2       0\n",
      "3       0\n",
      "4       0\n",
      "       ..\n",
      "4715    0\n",
      "4716    0\n",
      "4717    0\n",
      "4718    0\n",
      "4719    0\n",
      "Name: Convinced, Length: 4720, dtype: int64\n",
      "4720    0\n",
      "4721    0\n",
      "4722    0\n",
      "4723    0\n",
      "4724    0\n",
      "       ..\n",
      "9435    0\n",
      "9436    0\n",
      "9437    0\n",
      "9438    0\n",
      "9439    1\n",
      "Name: Convinced, Length: 4720, dtype: int64\n"
     ]
    }
   ],
   "source": [
    "#Our sample size is larger than 30, so we can assume that data is distributed normally\n",
    "#Since we are trying to test a non discrete metric (success rate), sample size is large, \\n\n",
    "#and variances are knows, we can apply Z-test\n",
    "\n",
    "from statsmodels.stats.proportion import proportions_ztest, proportion_confint\n",
    "\n",
    "\n",
    "Control_results=ab_test[ab_test['group']=='Control']['Convinced']\n",
    "NewGroup_results=ab_test[ab_test['group']=='New']['Convinced']\n",
    "\n",
    "print(Control_results)\n",
    "print(NewGroup_results)\n"
   ]
  },
  {
   "cell_type": "code",
   "execution_count": 28,
   "id": "d82eb89b",
   "metadata": {},
   "outputs": [
    {
     "name": "stdout",
     "output_type": "stream",
     "text": [
      "4720\n",
      "4720\n"
     ]
    }
   ],
   "source": [
    "#Sample size of each group\n",
    "n_cont=Control_results.count()\n",
    "n_New=NewGroup_results.count()\n",
    "print(n_cont)\n",
    "print(n_New)"
   ]
  },
  {
   "cell_type": "code",
   "execution_count": 30,
   "id": "5833eeab",
   "metadata": {},
   "outputs": [
    {
     "name": "stdout",
     "output_type": "stream",
     "text": [
      "582\n",
      "593\n"
     ]
    }
   ],
   "source": [
    "#How many people were convinced in each group\n",
    "print(Control_results.sum())\n",
    "print(NewGroup_results.sum())"
   ]
  },
  {
   "cell_type": "code",
   "execution_count": 32,
   "id": "d3763164",
   "metadata": {},
   "outputs": [
    {
     "name": "stdout",
     "output_type": "stream",
     "text": [
      "Z statistics: -0.34\n",
      "P-Value: 0.73\n",
      "Within 95% confidence, confidence interval of the control group is [0.11,0.13]\n",
      "Within 95% confidence, confidence interval of the new group is [0.12,0.14]\n"
     ]
    }
   ],
   "source": [
    "#Z value, P value and Confidence Interval of Groups' mean distribution\n",
    "successes=[Control_results.sum(), NewGroup_results.sum()]\n",
    "nobs=[n_cont, n_New]\n",
    "\n",
    "z_stat, p_val=proportions_ztest(successes, nobs=nobs)\n",
    "(lower_cont, lower_new),(upper_cont, upper_new)=proportion_confint(successes, nobs=nobs, alpha=0.05)\n",
    "\n",
    "print(f'Z statistics: {z_stat:.2f}')\n",
    "print(f'P-Value: {p_val:.2f}')\n",
    "print(f'Within 95% confidence, confidence interval of the control group is [{lower_cont:.2f},{upper_cont:.2f}]')\n",
    "print(f'Within 95% confidence, confidence interval of the new group is [{lower_new:.2f},{upper_new:.2f}]')"
   ]
  },
  {
   "cell_type": "markdown",
   "id": "6e95ca80",
   "metadata": {},
   "source": [
    "# Reading the results and drawing the conclusion"
   ]
  },
  {
   "cell_type": "code",
   "execution_count": null,
   "id": "080f8353",
   "metadata": {},
   "outputs": [],
   "source": [
    "#Given that we did not know if control group or new group will perform better, null hypothesis is\n",
    "#H_o: Success rate_0 =Success rate_a\n",
    "#Success rate of group who had a optimistic speech about climate change is same as the group who had a pessimistic speech\n",
    "\n",
    "#p value measure the probability of the observed results are by random\n",
    "#Confidence level = 0.95 and a=1-0.95=0.05 \n",
    "\n",
    "#p value !< alpha\n",
    "#0.73!<0.05\n",
    "\n",
    "#We failed to reject null hypothesis since p value is not higher than the alpha that means \n",
    "#optimistic speech about climate change didn't perform statistically different than optimistic speech\n",
    "\n",
    "#Another supportive statistical information is that expected success rate, 0.15, is higher than the confidence interval of new group\n",
    "#That means it is unlikely that we can convince more people with optimistic speeches. Sorry world!"
   ]
  }
 ],
 "metadata": {
  "kernelspec": {
   "display_name": "Python 3",
   "language": "python",
   "name": "python3"
  },
  "language_info": {
   "codemirror_mode": {
    "name": "ipython",
    "version": 3
   },
   "file_extension": ".py",
   "mimetype": "text/x-python",
   "name": "python",
   "nbconvert_exporter": "python",
   "pygments_lexer": "ipython3",
   "version": "3.8.8"
  }
 },
 "nbformat": 4,
 "nbformat_minor": 5
}
