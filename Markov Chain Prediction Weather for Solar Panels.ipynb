{
 "cells": [
  {
   "cell_type": "code",
   "execution_count": 7,
   "id": "b27c36ac",
   "metadata": {},
   "outputs": [],
   "source": [
    "import numpy as np\n",
    "import random as rm"
   ]
  },
  {
   "cell_type": "code",
   "execution_count": 8,
   "id": "4de519fb",
   "metadata": {},
   "outputs": [],
   "source": [
    "# The statespace\n",
    "states = [\"Sunny\",\"Cloudy\",\"Fine\"]\n",
    "\n",
    "# Possible sequences of events\n",
    "transitionName = [[\"SS\",\"SC\",\"SF\"],[\"CS\",\"CC\",\"CF\"],[\"FS\",\"FC\",\"FF\"]]\n",
    "\n",
    "# Probabilities matrix (transition matrix)\n",
    "transitionMatrix = [[0.2,0.6,0.2],[0.1,0.6,0.3],[0.2,0.7,0.1]]"
   ]
  },
  {
   "cell_type": "code",
   "execution_count": 9,
   "id": "a1941148",
   "metadata": {},
   "outputs": [
    {
     "name": "stdout",
     "output_type": "stream",
     "text": [
      "They add up to 1!\n"
     ]
    }
   ],
   "source": [
    "if sum(transitionMatrix[0])+sum(transitionMatrix[1])+sum(transitionMatrix[1]) != 3:\n",
    "    print(\"Please check the probabilities!\")\n",
    "else: print(\"They add up to 1!\")"
   ]
  },
  {
   "cell_type": "code",
   "execution_count": 11,
   "id": "b8da7c78",
   "metadata": {},
   "outputs": [
    {
     "name": "stdout",
     "output_type": "stream",
     "text": [
      "Start state: Fine\n",
      "Possible states: ['Fine', 'Fine', 'Cloudy']\n",
      "End state after 2 days: Cloudy\n",
      "Probability of the possible sequence of states: 0.06999999999999999\n"
     ]
    }
   ],
   "source": [
    "# A function that implements the Markov model to forecast the state/mood.\n",
    "def weather_forecast(days):\n",
    "    # Choose the starting state\n",
    "    weatherToday = \"Fine\"\n",
    "    print(\"Start state: \" + weatherToday)\n",
    "    # Shall store the sequence of states taken. So, this only has the starting state for now.\n",
    "    weatherList = [weatherToday]\n",
    "    i = 0\n",
    "    # To calculate the probability of the activityList\n",
    "    prob = 1\n",
    "    while i != days:\n",
    "        if weatherToday == \"Sunny\":\n",
    "            change = np.random.choice(transitionName[0],replace=True,p=transitionMatrix[0])\n",
    "            if change == \"SS\":\n",
    "                prob = prob * 0.2\n",
    "                weatherList.append(\"Sunny\")\n",
    "                pass\n",
    "            elif change == \"SC\":\n",
    "                prob = prob * 0.6\n",
    "                weatherToday = \"Cloudy\"\n",
    "                weatherList.append(\"Cloudy\")\n",
    "            else:\n",
    "                prob = prob * 0.2\n",
    "                weatherToday = \"Fine\"\n",
    "                weatherList.append(\"Fine\")\n",
    "        elif weatherToday == \"Cloudy\":\n",
    "            change = np.random.choice(transitionName[1],replace=True,p=transitionMatrix[1])\n",
    "            if change == \"CS\":\n",
    "                prob = prob * 0.1\n",
    "                weatherToday=\"Sunny\"\n",
    "                weatherList.append(\"Sunny\")\n",
    "                pass\n",
    "            elif change == \"CC\":\n",
    "                prob = prob * 0.6\n",
    "                weatherList.append(\"Cloudy\")\n",
    "            else:\n",
    "                prob = prob * 0.3\n",
    "                weatherToday = \"Fine\"\n",
    "                weatherList.append(\"Fine\")\n",
    "        elif weatherToday == \"Fine\":\n",
    "            change = np.random.choice(transitionName[2],replace=True,p=transitionMatrix[2])\n",
    "            if change == \"FS\":\n",
    "                prob = prob * 0.2\n",
    "                weatherList.append(\"Sunny\")\n",
    "                pass\n",
    "            elif change == \"FC\":\n",
    "                prob = prob * 0.7\n",
    "                weatherToday = \"Cloudy\"\n",
    "                weatherList.append(\"Cloudy\")\n",
    "            else:\n",
    "                prob = prob * 0.1\n",
    "                weatherToday = \"Fine\"\n",
    "                weatherList.append(\"Fine\")\n",
    "        i += 1  \n",
    "    print(\"Possible states: \" + str(weatherList))\n",
    "    print(\"End state after \"+ str(days) + \" days: \" + weatherToday)\n",
    "    print(\"Probability of the possible sequence of states: \" + str(prob))\n",
    "\n",
    "# Function that forecasts the possible state for the next 2 days\n",
    "weather_forecast(2)"
   ]
  },
  {
   "cell_type": "code",
   "execution_count": 15,
   "id": "2e739b08",
   "metadata": {},
   "outputs": [
    {
     "name": "stdout",
     "output_type": "stream",
     "text": [
      "The probability of starting at state:'Cloudy' and ending at state:'Sunny'= 13.76%\n"
     ]
    }
   ],
   "source": [
    "#Function that gives the probability of ending at a desired end state, in this case today is cloudy and desired condition is sunny\n",
    "def endweather_forecast(days):\n",
    "    # Choose the starting state\n",
    "    weatherToday = \"Cloudy\"\n",
    "    weatherList = [weatherToday]\n",
    "    i = 0\n",
    "    prob = 1\n",
    "    while i != days:\n",
    "        if weatherToday == \"Sunny\":\n",
    "            change = np.random.choice(transitionName[0],replace=True,p=transitionMatrix[0])\n",
    "            if change == \"SS\":\n",
    "                prob = prob * 0.2\n",
    "                weatherList.append(\"Sunny\")\n",
    "                pass\n",
    "            elif change == \"SF\":\n",
    "                prob = prob * 0.2\n",
    "                weatherToday = \"Fine\"\n",
    "                weatherList.append(\"Fine\")\n",
    "            else:\n",
    "                prob = prob * 0.6\n",
    "                weatherToday = \"Cloudy\"\n",
    "                weatherList.append(\"Cloudy\")\n",
    "        elif weatherToday == \"Cloudy\":\n",
    "            change = np.random.choice(transitionName[1],replace=True,p=transitionMatrix[1])\n",
    "            if change == \"CS\":\n",
    "                prob = prob * 0.1\n",
    "                weatherToday=\"Sunny\"\n",
    "                weatherList.append(\"Sunny\")\n",
    "                pass\n",
    "            elif change == \"CC\":\n",
    "                prob = prob * 0.6\n",
    "               \n",
    "                weatherList.append(\"Cloudy\")\n",
    "            else:\n",
    "                prob = prob * 0.3\n",
    "                weatherToday = \"Fine\"\n",
    "                weatherList.append(\"Fine\")\n",
    "        elif weatherToday == \"Fine\":\n",
    "            change = np.random.choice(transitionName[2],replace=True,p=transitionMatrix[2])\n",
    "            if change == \"FF\":\n",
    "                prob = prob * 0.1\n",
    "                weatherList.append(\"Fine\")\n",
    "                pass\n",
    "            elif change == \"FS\":\n",
    "                prob = prob * 0.2\n",
    "                weatherToday = \"Sunny\"\n",
    "                weatherList.append(\"Sunny\")\n",
    "            else:\n",
    "                prob = prob * 0.7\n",
    "                weatherToday = \"Cloudy\"\n",
    "                weatherList.append(\"Cloudy\")\n",
    "        i += 1    \n",
    "    return weatherList\n",
    "\n",
    "# To save every activityList\n",
    "list_activity = []\n",
    "count = 0\n",
    "\n",
    "# `Range` starts from the first count up until but excluding the last count\n",
    "for iterations in range(1,10000):\n",
    "        list_activity.append(endweather_forecast(2))\n",
    "\n",
    "# Check out all the `activityList` collected    \n",
    "#print(list_activity)\n",
    "\n",
    "# Iterate through the list to get a count of all activities ending in state:'Sunny'\n",
    "for smaller_list in list_activity:\n",
    "    if(smaller_list[2] == \"Sunny\"):\n",
    "        count += 1\n",
    "\n",
    "# Calculate the probability of starting from state:'Cloudy' and ending at state:'Sunny'\n",
    "percentage = (count/10000) * 100\n",
    "print(\"The probability of starting at state:'Cloudy' and ending at state:'Sunny'= \" + str(percentage) + \"%\")"
   ]
  },
  {
   "cell_type": "code",
   "execution_count": null,
   "id": "76182ec2",
   "metadata": {},
   "outputs": [],
   "source": []
  }
 ],
 "metadata": {
  "kernelspec": {
   "display_name": "Python 3",
   "language": "python",
   "name": "python3"
  },
  "language_info": {
   "codemirror_mode": {
    "name": "ipython",
    "version": 3
   },
   "file_extension": ".py",
   "mimetype": "text/x-python",
   "name": "python",
   "nbconvert_exporter": "python",
   "pygments_lexer": "ipython3",
   "version": "3.8.8"
  }
 },
 "nbformat": 4,
 "nbformat_minor": 5
}
